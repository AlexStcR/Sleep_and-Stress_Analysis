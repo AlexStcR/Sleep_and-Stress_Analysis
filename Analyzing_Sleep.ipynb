{
 "cells": [
  {
   "cell_type": "markdown",
   "id": "9b909b47-ad83-4098-8360-1ab7f6f74341",
   "metadata": {},
   "source": [
    "<h1>Occupational Impact on Sleep and Stress: A Health Insights Report</h1>"
   ]
  },
  {
   "cell_type": "code",
   "execution_count": 1348,
   "id": "710ccf75-9754-4005-a0ea-2f86acbb69e0",
   "metadata": {},
   "outputs": [],
   "source": [
    "#first, import libraries\n",
    "\n",
    "import pandas as pd\n",
    "import matplotlib.pyplot as plt\n",
    "import seaborn as sns\n",
    "import numpy as np\n",
    "\n",
    "#let's open the dataset\n",
    "df=pd.read_csv('Sleep_health_and_lifestyle_dataset.csv')"
   ]
  },
  {
   "cell_type": "code",
   "execution_count": 1350,
   "id": "8da3dbc4-d00c-4789-9dd4-c70997ebecb4",
   "metadata": {},
   "outputs": [
    {
     "data": {
      "text/html": [
       "<div>\n",
       "<style scoped>\n",
       "    .dataframe tbody tr th:only-of-type {\n",
       "        vertical-align: middle;\n",
       "    }\n",
       "\n",
       "    .dataframe tbody tr th {\n",
       "        vertical-align: top;\n",
       "    }\n",
       "\n",
       "    .dataframe thead th {\n",
       "        text-align: right;\n",
       "    }\n",
       "</style>\n",
       "<table border=\"1\" class=\"dataframe\">\n",
       "  <thead>\n",
       "    <tr style=\"text-align: right;\">\n",
       "      <th></th>\n",
       "      <th>Person ID</th>\n",
       "      <th>Gender</th>\n",
       "      <th>Age</th>\n",
       "      <th>Occupation</th>\n",
       "      <th>Sleep Duration</th>\n",
       "      <th>Quality of Sleep</th>\n",
       "      <th>Physical Activity Level</th>\n",
       "      <th>Stress Level</th>\n",
       "      <th>BMI Category</th>\n",
       "      <th>Blood Pressure</th>\n",
       "      <th>Heart Rate</th>\n",
       "      <th>Daily Steps</th>\n",
       "      <th>Sleep Disorder</th>\n",
       "    </tr>\n",
       "  </thead>\n",
       "  <tbody>\n",
       "    <tr>\n",
       "      <th>0</th>\n",
       "      <td>1</td>\n",
       "      <td>Male</td>\n",
       "      <td>27</td>\n",
       "      <td>Software Engineer</td>\n",
       "      <td>6.1</td>\n",
       "      <td>6</td>\n",
       "      <td>42</td>\n",
       "      <td>6</td>\n",
       "      <td>Overweight</td>\n",
       "      <td>126/83</td>\n",
       "      <td>77</td>\n",
       "      <td>4200</td>\n",
       "      <td>NaN</td>\n",
       "    </tr>\n",
       "    <tr>\n",
       "      <th>1</th>\n",
       "      <td>2</td>\n",
       "      <td>Male</td>\n",
       "      <td>28</td>\n",
       "      <td>Doctor</td>\n",
       "      <td>6.2</td>\n",
       "      <td>6</td>\n",
       "      <td>60</td>\n",
       "      <td>8</td>\n",
       "      <td>Normal</td>\n",
       "      <td>125/80</td>\n",
       "      <td>75</td>\n",
       "      <td>10000</td>\n",
       "      <td>NaN</td>\n",
       "    </tr>\n",
       "    <tr>\n",
       "      <th>2</th>\n",
       "      <td>3</td>\n",
       "      <td>Male</td>\n",
       "      <td>28</td>\n",
       "      <td>Doctor</td>\n",
       "      <td>6.2</td>\n",
       "      <td>6</td>\n",
       "      <td>60</td>\n",
       "      <td>8</td>\n",
       "      <td>Normal</td>\n",
       "      <td>125/80</td>\n",
       "      <td>75</td>\n",
       "      <td>10000</td>\n",
       "      <td>NaN</td>\n",
       "    </tr>\n",
       "    <tr>\n",
       "      <th>3</th>\n",
       "      <td>4</td>\n",
       "      <td>Male</td>\n",
       "      <td>28</td>\n",
       "      <td>Sales Representative</td>\n",
       "      <td>5.9</td>\n",
       "      <td>4</td>\n",
       "      <td>30</td>\n",
       "      <td>8</td>\n",
       "      <td>Obese</td>\n",
       "      <td>140/90</td>\n",
       "      <td>85</td>\n",
       "      <td>3000</td>\n",
       "      <td>Sleep Apnea</td>\n",
       "    </tr>\n",
       "    <tr>\n",
       "      <th>4</th>\n",
       "      <td>5</td>\n",
       "      <td>Male</td>\n",
       "      <td>28</td>\n",
       "      <td>Sales Representative</td>\n",
       "      <td>5.9</td>\n",
       "      <td>4</td>\n",
       "      <td>30</td>\n",
       "      <td>8</td>\n",
       "      <td>Obese</td>\n",
       "      <td>140/90</td>\n",
       "      <td>85</td>\n",
       "      <td>3000</td>\n",
       "      <td>Sleep Apnea</td>\n",
       "    </tr>\n",
       "    <tr>\n",
       "      <th>5</th>\n",
       "      <td>6</td>\n",
       "      <td>Male</td>\n",
       "      <td>28</td>\n",
       "      <td>Software Engineer</td>\n",
       "      <td>5.9</td>\n",
       "      <td>4</td>\n",
       "      <td>30</td>\n",
       "      <td>8</td>\n",
       "      <td>Obese</td>\n",
       "      <td>140/90</td>\n",
       "      <td>85</td>\n",
       "      <td>3000</td>\n",
       "      <td>Insomnia</td>\n",
       "    </tr>\n",
       "    <tr>\n",
       "      <th>6</th>\n",
       "      <td>7</td>\n",
       "      <td>Male</td>\n",
       "      <td>29</td>\n",
       "      <td>Teacher</td>\n",
       "      <td>6.3</td>\n",
       "      <td>6</td>\n",
       "      <td>40</td>\n",
       "      <td>7</td>\n",
       "      <td>Obese</td>\n",
       "      <td>140/90</td>\n",
       "      <td>82</td>\n",
       "      <td>3500</td>\n",
       "      <td>Insomnia</td>\n",
       "    </tr>\n",
       "    <tr>\n",
       "      <th>7</th>\n",
       "      <td>8</td>\n",
       "      <td>Male</td>\n",
       "      <td>29</td>\n",
       "      <td>Doctor</td>\n",
       "      <td>7.8</td>\n",
       "      <td>7</td>\n",
       "      <td>75</td>\n",
       "      <td>6</td>\n",
       "      <td>Normal</td>\n",
       "      <td>120/80</td>\n",
       "      <td>70</td>\n",
       "      <td>8000</td>\n",
       "      <td>NaN</td>\n",
       "    </tr>\n",
       "    <tr>\n",
       "      <th>8</th>\n",
       "      <td>9</td>\n",
       "      <td>Male</td>\n",
       "      <td>29</td>\n",
       "      <td>Doctor</td>\n",
       "      <td>7.8</td>\n",
       "      <td>7</td>\n",
       "      <td>75</td>\n",
       "      <td>6</td>\n",
       "      <td>Normal</td>\n",
       "      <td>120/80</td>\n",
       "      <td>70</td>\n",
       "      <td>8000</td>\n",
       "      <td>NaN</td>\n",
       "    </tr>\n",
       "    <tr>\n",
       "      <th>9</th>\n",
       "      <td>10</td>\n",
       "      <td>Male</td>\n",
       "      <td>29</td>\n",
       "      <td>Doctor</td>\n",
       "      <td>7.8</td>\n",
       "      <td>7</td>\n",
       "      <td>75</td>\n",
       "      <td>6</td>\n",
       "      <td>Normal</td>\n",
       "      <td>120/80</td>\n",
       "      <td>70</td>\n",
       "      <td>8000</td>\n",
       "      <td>NaN</td>\n",
       "    </tr>\n",
       "  </tbody>\n",
       "</table>\n",
       "</div>"
      ],
      "text/plain": [
       "   Person ID Gender  Age            Occupation  Sleep Duration  \\\n",
       "0          1   Male   27     Software Engineer             6.1   \n",
       "1          2   Male   28                Doctor             6.2   \n",
       "2          3   Male   28                Doctor             6.2   \n",
       "3          4   Male   28  Sales Representative             5.9   \n",
       "4          5   Male   28  Sales Representative             5.9   \n",
       "5          6   Male   28     Software Engineer             5.9   \n",
       "6          7   Male   29               Teacher             6.3   \n",
       "7          8   Male   29                Doctor             7.8   \n",
       "8          9   Male   29                Doctor             7.8   \n",
       "9         10   Male   29                Doctor             7.8   \n",
       "\n",
       "   Quality of Sleep  Physical Activity Level  Stress Level BMI Category  \\\n",
       "0                 6                       42             6   Overweight   \n",
       "1                 6                       60             8       Normal   \n",
       "2                 6                       60             8       Normal   \n",
       "3                 4                       30             8        Obese   \n",
       "4                 4                       30             8        Obese   \n",
       "5                 4                       30             8        Obese   \n",
       "6                 6                       40             7        Obese   \n",
       "7                 7                       75             6       Normal   \n",
       "8                 7                       75             6       Normal   \n",
       "9                 7                       75             6       Normal   \n",
       "\n",
       "  Blood Pressure  Heart Rate  Daily Steps Sleep Disorder  \n",
       "0         126/83          77         4200            NaN  \n",
       "1         125/80          75        10000            NaN  \n",
       "2         125/80          75        10000            NaN  \n",
       "3         140/90          85         3000    Sleep Apnea  \n",
       "4         140/90          85         3000    Sleep Apnea  \n",
       "5         140/90          85         3000       Insomnia  \n",
       "6         140/90          82         3500       Insomnia  \n",
       "7         120/80          70         8000            NaN  \n",
       "8         120/80          70         8000            NaN  \n",
       "9         120/80          70         8000            NaN  "
      ]
     },
     "execution_count": 1350,
     "metadata": {},
     "output_type": "execute_result"
    }
   ],
   "source": [
    "#I always like to get a sense of the data and what kind of information it holds\n",
    "df.head(10)"
   ]
  },
  {
   "cell_type": "code",
   "execution_count": 1352,
   "id": "44e5be59-b051-402c-9a7e-66495b530faa",
   "metadata": {},
   "outputs": [
    {
     "data": {
      "text/plain": [
       "(374, 13)"
      ]
     },
     "execution_count": 1352,
     "metadata": {},
     "output_type": "execute_result"
    }
   ],
   "source": [
    "#checking the size of the dataset\n",
    "df.shape"
   ]
  },
  {
   "cell_type": "markdown",
   "id": "1da98855-49e5-4718-9c59-2e171056e364",
   "metadata": {},
   "source": [
    "## Let's start the data cleaning process\n"
   ]
  },
  {
   "cell_type": "code",
   "execution_count": 1355,
   "id": "f5353784-2a12-4927-ae27-7546093bc01e",
   "metadata": {},
   "outputs": [
    {
     "name": "stdout",
     "output_type": "stream",
     "text": [
      "<class 'pandas.core.frame.DataFrame'>\n",
      "RangeIndex: 374 entries, 0 to 373\n",
      "Data columns (total 13 columns):\n",
      " #   Column                   Non-Null Count  Dtype  \n",
      "---  ------                   --------------  -----  \n",
      " 0   Person ID                374 non-null    int64  \n",
      " 1   Gender                   374 non-null    object \n",
      " 2   Age                      374 non-null    int64  \n",
      " 3   Occupation               374 non-null    object \n",
      " 4   Sleep Duration           374 non-null    float64\n",
      " 5   Quality of Sleep         374 non-null    int64  \n",
      " 6   Physical Activity Level  374 non-null    int64  \n",
      " 7   Stress Level             374 non-null    int64  \n",
      " 8   BMI Category             374 non-null    object \n",
      " 9   Blood Pressure           374 non-null    object \n",
      " 10  Heart Rate               374 non-null    int64  \n",
      " 11  Daily Steps              374 non-null    int64  \n",
      " 12  Sleep Disorder           155 non-null    object \n",
      "dtypes: float64(1), int64(7), object(5)\n",
      "memory usage: 38.1+ KB\n"
     ]
    }
   ],
   "source": [
    "#check info\n",
    "df.info()"
   ]
  },
  {
   "cell_type": "code",
   "execution_count": 1357,
   "id": "9d8cfb3c-5729-42c1-af17-621779fcd8c2",
   "metadata": {},
   "outputs": [
    {
     "data": {
      "text/html": [
       "<div>\n",
       "<style scoped>\n",
       "    .dataframe tbody tr th:only-of-type {\n",
       "        vertical-align: middle;\n",
       "    }\n",
       "\n",
       "    .dataframe tbody tr th {\n",
       "        vertical-align: top;\n",
       "    }\n",
       "\n",
       "    .dataframe thead th {\n",
       "        text-align: right;\n",
       "    }\n",
       "</style>\n",
       "<table border=\"1\" class=\"dataframe\">\n",
       "  <thead>\n",
       "    <tr style=\"text-align: right;\">\n",
       "      <th></th>\n",
       "      <th>Person ID</th>\n",
       "      <th>Gender</th>\n",
       "      <th>Age</th>\n",
       "      <th>Occupation</th>\n",
       "      <th>Sleep Duration</th>\n",
       "      <th>Quality of Sleep</th>\n",
       "      <th>Physical Activity Level</th>\n",
       "      <th>Stress Level</th>\n",
       "      <th>BMI Category</th>\n",
       "      <th>Blood Pressure</th>\n",
       "      <th>Heart Rate</th>\n",
       "      <th>Daily Steps</th>\n",
       "      <th>Sleep Disorder</th>\n",
       "    </tr>\n",
       "  </thead>\n",
       "  <tbody>\n",
       "    <tr>\n",
       "      <th>0</th>\n",
       "      <td>False</td>\n",
       "      <td>False</td>\n",
       "      <td>False</td>\n",
       "      <td>False</td>\n",
       "      <td>False</td>\n",
       "      <td>False</td>\n",
       "      <td>False</td>\n",
       "      <td>False</td>\n",
       "      <td>False</td>\n",
       "      <td>False</td>\n",
       "      <td>False</td>\n",
       "      <td>False</td>\n",
       "      <td>True</td>\n",
       "    </tr>\n",
       "    <tr>\n",
       "      <th>1</th>\n",
       "      <td>False</td>\n",
       "      <td>False</td>\n",
       "      <td>False</td>\n",
       "      <td>False</td>\n",
       "      <td>False</td>\n",
       "      <td>False</td>\n",
       "      <td>False</td>\n",
       "      <td>False</td>\n",
       "      <td>False</td>\n",
       "      <td>False</td>\n",
       "      <td>False</td>\n",
       "      <td>False</td>\n",
       "      <td>True</td>\n",
       "    </tr>\n",
       "    <tr>\n",
       "      <th>2</th>\n",
       "      <td>False</td>\n",
       "      <td>False</td>\n",
       "      <td>False</td>\n",
       "      <td>False</td>\n",
       "      <td>False</td>\n",
       "      <td>False</td>\n",
       "      <td>False</td>\n",
       "      <td>False</td>\n",
       "      <td>False</td>\n",
       "      <td>False</td>\n",
       "      <td>False</td>\n",
       "      <td>False</td>\n",
       "      <td>True</td>\n",
       "    </tr>\n",
       "    <tr>\n",
       "      <th>3</th>\n",
       "      <td>False</td>\n",
       "      <td>False</td>\n",
       "      <td>False</td>\n",
       "      <td>False</td>\n",
       "      <td>False</td>\n",
       "      <td>False</td>\n",
       "      <td>False</td>\n",
       "      <td>False</td>\n",
       "      <td>False</td>\n",
       "      <td>False</td>\n",
       "      <td>False</td>\n",
       "      <td>False</td>\n",
       "      <td>False</td>\n",
       "    </tr>\n",
       "    <tr>\n",
       "      <th>4</th>\n",
       "      <td>False</td>\n",
       "      <td>False</td>\n",
       "      <td>False</td>\n",
       "      <td>False</td>\n",
       "      <td>False</td>\n",
       "      <td>False</td>\n",
       "      <td>False</td>\n",
       "      <td>False</td>\n",
       "      <td>False</td>\n",
       "      <td>False</td>\n",
       "      <td>False</td>\n",
       "      <td>False</td>\n",
       "      <td>False</td>\n",
       "    </tr>\n",
       "    <tr>\n",
       "      <th>...</th>\n",
       "      <td>...</td>\n",
       "      <td>...</td>\n",
       "      <td>...</td>\n",
       "      <td>...</td>\n",
       "      <td>...</td>\n",
       "      <td>...</td>\n",
       "      <td>...</td>\n",
       "      <td>...</td>\n",
       "      <td>...</td>\n",
       "      <td>...</td>\n",
       "      <td>...</td>\n",
       "      <td>...</td>\n",
       "      <td>...</td>\n",
       "    </tr>\n",
       "    <tr>\n",
       "      <th>369</th>\n",
       "      <td>False</td>\n",
       "      <td>False</td>\n",
       "      <td>False</td>\n",
       "      <td>False</td>\n",
       "      <td>False</td>\n",
       "      <td>False</td>\n",
       "      <td>False</td>\n",
       "      <td>False</td>\n",
       "      <td>False</td>\n",
       "      <td>False</td>\n",
       "      <td>False</td>\n",
       "      <td>False</td>\n",
       "      <td>False</td>\n",
       "    </tr>\n",
       "    <tr>\n",
       "      <th>370</th>\n",
       "      <td>False</td>\n",
       "      <td>False</td>\n",
       "      <td>False</td>\n",
       "      <td>False</td>\n",
       "      <td>False</td>\n",
       "      <td>False</td>\n",
       "      <td>False</td>\n",
       "      <td>False</td>\n",
       "      <td>False</td>\n",
       "      <td>False</td>\n",
       "      <td>False</td>\n",
       "      <td>False</td>\n",
       "      <td>False</td>\n",
       "    </tr>\n",
       "    <tr>\n",
       "      <th>371</th>\n",
       "      <td>False</td>\n",
       "      <td>False</td>\n",
       "      <td>False</td>\n",
       "      <td>False</td>\n",
       "      <td>False</td>\n",
       "      <td>False</td>\n",
       "      <td>False</td>\n",
       "      <td>False</td>\n",
       "      <td>False</td>\n",
       "      <td>False</td>\n",
       "      <td>False</td>\n",
       "      <td>False</td>\n",
       "      <td>False</td>\n",
       "    </tr>\n",
       "    <tr>\n",
       "      <th>372</th>\n",
       "      <td>False</td>\n",
       "      <td>False</td>\n",
       "      <td>False</td>\n",
       "      <td>False</td>\n",
       "      <td>False</td>\n",
       "      <td>False</td>\n",
       "      <td>False</td>\n",
       "      <td>False</td>\n",
       "      <td>False</td>\n",
       "      <td>False</td>\n",
       "      <td>False</td>\n",
       "      <td>False</td>\n",
       "      <td>False</td>\n",
       "    </tr>\n",
       "    <tr>\n",
       "      <th>373</th>\n",
       "      <td>False</td>\n",
       "      <td>False</td>\n",
       "      <td>False</td>\n",
       "      <td>False</td>\n",
       "      <td>False</td>\n",
       "      <td>False</td>\n",
       "      <td>False</td>\n",
       "      <td>False</td>\n",
       "      <td>False</td>\n",
       "      <td>False</td>\n",
       "      <td>False</td>\n",
       "      <td>False</td>\n",
       "      <td>False</td>\n",
       "    </tr>\n",
       "  </tbody>\n",
       "</table>\n",
       "<p>374 rows × 13 columns</p>\n",
       "</div>"
      ],
      "text/plain": [
       "     Person ID  Gender    Age  Occupation  Sleep Duration  Quality of Sleep  \\\n",
       "0        False   False  False       False           False             False   \n",
       "1        False   False  False       False           False             False   \n",
       "2        False   False  False       False           False             False   \n",
       "3        False   False  False       False           False             False   \n",
       "4        False   False  False       False           False             False   \n",
       "..         ...     ...    ...         ...             ...               ...   \n",
       "369      False   False  False       False           False             False   \n",
       "370      False   False  False       False           False             False   \n",
       "371      False   False  False       False           False             False   \n",
       "372      False   False  False       False           False             False   \n",
       "373      False   False  False       False           False             False   \n",
       "\n",
       "     Physical Activity Level  Stress Level  BMI Category  Blood Pressure  \\\n",
       "0                      False         False         False           False   \n",
       "1                      False         False         False           False   \n",
       "2                      False         False         False           False   \n",
       "3                      False         False         False           False   \n",
       "4                      False         False         False           False   \n",
       "..                       ...           ...           ...             ...   \n",
       "369                    False         False         False           False   \n",
       "370                    False         False         False           False   \n",
       "371                    False         False         False           False   \n",
       "372                    False         False         False           False   \n",
       "373                    False         False         False           False   \n",
       "\n",
       "     Heart Rate  Daily Steps  Sleep Disorder  \n",
       "0         False        False            True  \n",
       "1         False        False            True  \n",
       "2         False        False            True  \n",
       "3         False        False           False  \n",
       "4         False        False           False  \n",
       "..          ...          ...             ...  \n",
       "369       False        False           False  \n",
       "370       False        False           False  \n",
       "371       False        False           False  \n",
       "372       False        False           False  \n",
       "373       False        False           False  \n",
       "\n",
       "[374 rows x 13 columns]"
      ]
     },
     "execution_count": 1357,
     "metadata": {},
     "output_type": "execute_result"
    }
   ],
   "source": [
    "#Let's identify missing values, NaNs, and zeros\n",
    "\n",
    "df.isnull()"
   ]
  },
  {
   "cell_type": "code",
   "execution_count": 1359,
   "id": "5877f380-c1c3-460c-ae48-4c87025f2c71",
   "metadata": {},
   "outputs": [
    {
     "data": {
      "text/plain": [
       "Person ID                    0\n",
       "Gender                       0\n",
       "Age                          0\n",
       "Occupation                   0\n",
       "Sleep Duration               0\n",
       "Quality of Sleep             0\n",
       "Physical Activity Level      0\n",
       "Stress Level                 0\n",
       "BMI Category                 0\n",
       "Blood Pressure               0\n",
       "Heart Rate                   0\n",
       "Daily Steps                  0\n",
       "Sleep Disorder             219\n",
       "dtype: int64"
      ]
     },
     "execution_count": 1359,
     "metadata": {},
     "output_type": "execute_result"
    }
   ],
   "source": [
    "#As we can see, there are some null values\n",
    "\n",
    "df.isnull().sum()"
   ]
  },
  {
   "cell_type": "code",
   "execution_count": 1360,
   "id": "ef987beb-6262-4006-9d58-680e005b3138",
   "metadata": {},
   "outputs": [
    {
     "data": {
      "text/plain": [
       "Sleep Disorder\n",
       "Sleep Apnea    78\n",
       "Insomnia       77\n",
       "Name: count, dtype: int64"
      ]
     },
     "execution_count": 1360,
     "metadata": {},
     "output_type": "execute_result"
    }
   ],
   "source": [
    "#All of the missing values are in the 'Sleep Disorder' column. Let's examine it.\n",
    "\n",
    "df['Sleep Disorder'].value_counts()"
   ]
  },
  {
   "cell_type": "code",
   "execution_count": 1361,
   "id": "c5f6f9c3-b0dd-4dc5-8237-bbd0da12c746",
   "metadata": {},
   "outputs": [],
   "source": [
    "#It is observed that the NaN values represent patients who do not have a sleep disorder. These will be replaced with 'None'.\n",
    "\n",
    "df['Sleep Disorder'] = df['Sleep Disorder'].fillna('None')"
   ]
  },
  {
   "cell_type": "code",
   "execution_count": 1362,
   "id": "971d36a0-7466-4f67-99f5-6422f3b1bd91",
   "metadata": {},
   "outputs": [
    {
     "data": {
      "text/html": [
       "<div>\n",
       "<style scoped>\n",
       "    .dataframe tbody tr th:only-of-type {\n",
       "        vertical-align: middle;\n",
       "    }\n",
       "\n",
       "    .dataframe tbody tr th {\n",
       "        vertical-align: top;\n",
       "    }\n",
       "\n",
       "    .dataframe thead th {\n",
       "        text-align: right;\n",
       "    }\n",
       "</style>\n",
       "<table border=\"1\" class=\"dataframe\">\n",
       "  <thead>\n",
       "    <tr style=\"text-align: right;\">\n",
       "      <th></th>\n",
       "      <th>Person ID</th>\n",
       "      <th>Gender</th>\n",
       "      <th>Age</th>\n",
       "      <th>Occupation</th>\n",
       "      <th>Sleep Duration</th>\n",
       "      <th>Quality of Sleep</th>\n",
       "      <th>Physical Activity Level</th>\n",
       "      <th>Stress Level</th>\n",
       "      <th>BMI Category</th>\n",
       "      <th>Blood Pressure</th>\n",
       "      <th>Heart Rate</th>\n",
       "      <th>Daily Steps</th>\n",
       "      <th>Sleep Disorder</th>\n",
       "    </tr>\n",
       "  </thead>\n",
       "  <tbody>\n",
       "    <tr>\n",
       "      <th>0</th>\n",
       "      <td>1</td>\n",
       "      <td>Male</td>\n",
       "      <td>27</td>\n",
       "      <td>Software Engineer</td>\n",
       "      <td>6.1</td>\n",
       "      <td>6</td>\n",
       "      <td>42</td>\n",
       "      <td>6</td>\n",
       "      <td>Overweight</td>\n",
       "      <td>126/83</td>\n",
       "      <td>77</td>\n",
       "      <td>4200</td>\n",
       "      <td>None</td>\n",
       "    </tr>\n",
       "    <tr>\n",
       "      <th>1</th>\n",
       "      <td>2</td>\n",
       "      <td>Male</td>\n",
       "      <td>28</td>\n",
       "      <td>Doctor</td>\n",
       "      <td>6.2</td>\n",
       "      <td>6</td>\n",
       "      <td>60</td>\n",
       "      <td>8</td>\n",
       "      <td>Normal</td>\n",
       "      <td>125/80</td>\n",
       "      <td>75</td>\n",
       "      <td>10000</td>\n",
       "      <td>None</td>\n",
       "    </tr>\n",
       "    <tr>\n",
       "      <th>2</th>\n",
       "      <td>3</td>\n",
       "      <td>Male</td>\n",
       "      <td>28</td>\n",
       "      <td>Doctor</td>\n",
       "      <td>6.2</td>\n",
       "      <td>6</td>\n",
       "      <td>60</td>\n",
       "      <td>8</td>\n",
       "      <td>Normal</td>\n",
       "      <td>125/80</td>\n",
       "      <td>75</td>\n",
       "      <td>10000</td>\n",
       "      <td>None</td>\n",
       "    </tr>\n",
       "    <tr>\n",
       "      <th>3</th>\n",
       "      <td>4</td>\n",
       "      <td>Male</td>\n",
       "      <td>28</td>\n",
       "      <td>Sales Representative</td>\n",
       "      <td>5.9</td>\n",
       "      <td>4</td>\n",
       "      <td>30</td>\n",
       "      <td>8</td>\n",
       "      <td>Obese</td>\n",
       "      <td>140/90</td>\n",
       "      <td>85</td>\n",
       "      <td>3000</td>\n",
       "      <td>Sleep Apnea</td>\n",
       "    </tr>\n",
       "    <tr>\n",
       "      <th>4</th>\n",
       "      <td>5</td>\n",
       "      <td>Male</td>\n",
       "      <td>28</td>\n",
       "      <td>Sales Representative</td>\n",
       "      <td>5.9</td>\n",
       "      <td>4</td>\n",
       "      <td>30</td>\n",
       "      <td>8</td>\n",
       "      <td>Obese</td>\n",
       "      <td>140/90</td>\n",
       "      <td>85</td>\n",
       "      <td>3000</td>\n",
       "      <td>Sleep Apnea</td>\n",
       "    </tr>\n",
       "    <tr>\n",
       "      <th>5</th>\n",
       "      <td>6</td>\n",
       "      <td>Male</td>\n",
       "      <td>28</td>\n",
       "      <td>Software Engineer</td>\n",
       "      <td>5.9</td>\n",
       "      <td>4</td>\n",
       "      <td>30</td>\n",
       "      <td>8</td>\n",
       "      <td>Obese</td>\n",
       "      <td>140/90</td>\n",
       "      <td>85</td>\n",
       "      <td>3000</td>\n",
       "      <td>Insomnia</td>\n",
       "    </tr>\n",
       "    <tr>\n",
       "      <th>6</th>\n",
       "      <td>7</td>\n",
       "      <td>Male</td>\n",
       "      <td>29</td>\n",
       "      <td>Teacher</td>\n",
       "      <td>6.3</td>\n",
       "      <td>6</td>\n",
       "      <td>40</td>\n",
       "      <td>7</td>\n",
       "      <td>Obese</td>\n",
       "      <td>140/90</td>\n",
       "      <td>82</td>\n",
       "      <td>3500</td>\n",
       "      <td>Insomnia</td>\n",
       "    </tr>\n",
       "    <tr>\n",
       "      <th>7</th>\n",
       "      <td>8</td>\n",
       "      <td>Male</td>\n",
       "      <td>29</td>\n",
       "      <td>Doctor</td>\n",
       "      <td>7.8</td>\n",
       "      <td>7</td>\n",
       "      <td>75</td>\n",
       "      <td>6</td>\n",
       "      <td>Normal</td>\n",
       "      <td>120/80</td>\n",
       "      <td>70</td>\n",
       "      <td>8000</td>\n",
       "      <td>None</td>\n",
       "    </tr>\n",
       "    <tr>\n",
       "      <th>8</th>\n",
       "      <td>9</td>\n",
       "      <td>Male</td>\n",
       "      <td>29</td>\n",
       "      <td>Doctor</td>\n",
       "      <td>7.8</td>\n",
       "      <td>7</td>\n",
       "      <td>75</td>\n",
       "      <td>6</td>\n",
       "      <td>Normal</td>\n",
       "      <td>120/80</td>\n",
       "      <td>70</td>\n",
       "      <td>8000</td>\n",
       "      <td>None</td>\n",
       "    </tr>\n",
       "    <tr>\n",
       "      <th>9</th>\n",
       "      <td>10</td>\n",
       "      <td>Male</td>\n",
       "      <td>29</td>\n",
       "      <td>Doctor</td>\n",
       "      <td>7.8</td>\n",
       "      <td>7</td>\n",
       "      <td>75</td>\n",
       "      <td>6</td>\n",
       "      <td>Normal</td>\n",
       "      <td>120/80</td>\n",
       "      <td>70</td>\n",
       "      <td>8000</td>\n",
       "      <td>None</td>\n",
       "    </tr>\n",
       "  </tbody>\n",
       "</table>\n",
       "</div>"
      ],
      "text/plain": [
       "   Person ID Gender  Age            Occupation  Sleep Duration  \\\n",
       "0          1   Male   27     Software Engineer             6.1   \n",
       "1          2   Male   28                Doctor             6.2   \n",
       "2          3   Male   28                Doctor             6.2   \n",
       "3          4   Male   28  Sales Representative             5.9   \n",
       "4          5   Male   28  Sales Representative             5.9   \n",
       "5          6   Male   28     Software Engineer             5.9   \n",
       "6          7   Male   29               Teacher             6.3   \n",
       "7          8   Male   29                Doctor             7.8   \n",
       "8          9   Male   29                Doctor             7.8   \n",
       "9         10   Male   29                Doctor             7.8   \n",
       "\n",
       "   Quality of Sleep  Physical Activity Level  Stress Level BMI Category  \\\n",
       "0                 6                       42             6   Overweight   \n",
       "1                 6                       60             8       Normal   \n",
       "2                 6                       60             8       Normal   \n",
       "3                 4                       30             8        Obese   \n",
       "4                 4                       30             8        Obese   \n",
       "5                 4                       30             8        Obese   \n",
       "6                 6                       40             7        Obese   \n",
       "7                 7                       75             6       Normal   \n",
       "8                 7                       75             6       Normal   \n",
       "9                 7                       75             6       Normal   \n",
       "\n",
       "  Blood Pressure  Heart Rate  Daily Steps Sleep Disorder  \n",
       "0         126/83          77         4200           None  \n",
       "1         125/80          75        10000           None  \n",
       "2         125/80          75        10000           None  \n",
       "3         140/90          85         3000    Sleep Apnea  \n",
       "4         140/90          85         3000    Sleep Apnea  \n",
       "5         140/90          85         3000       Insomnia  \n",
       "6         140/90          82         3500       Insomnia  \n",
       "7         120/80          70         8000           None  \n",
       "8         120/80          70         8000           None  \n",
       "9         120/80          70         8000           None  "
      ]
     },
     "execution_count": 1362,
     "metadata": {},
     "output_type": "execute_result"
    }
   ],
   "source": [
    "#let's check it\n",
    "\n",
    "df.head(10)"
   ]
  },
  {
   "cell_type": "code",
   "execution_count": 1363,
   "id": "4ae4e640-2c58-4035-8e39-f21a3983d0df",
   "metadata": {},
   "outputs": [
    {
     "name": "stdout",
     "output_type": "stream",
     "text": [
      "0      False\n",
      "1      False\n",
      "2      False\n",
      "3      False\n",
      "4      False\n",
      "       ...  \n",
      "369    False\n",
      "370    False\n",
      "371    False\n",
      "372    False\n",
      "373    False\n",
      "Length: 374, dtype: bool\n"
     ]
    }
   ],
   "source": [
    "#now,I will check for duplicates \n",
    "\n",
    "s = df.duplicated()\n",
    "\n",
    "print(s)"
   ]
  },
  {
   "cell_type": "code",
   "execution_count": 1364,
   "id": "587fbccf-9a68-47bf-bf2c-2823e869d508",
   "metadata": {},
   "outputs": [
    {
     "name": "stdout",
     "output_type": "stream",
     "text": [
      "0\n"
     ]
    }
   ],
   "source": [
    "#We cannot manually check all the 'True' values. I will use sum()\n",
    "\n",
    "s=df.duplicated().sum()\n",
    "\n",
    "print(s)"
   ]
  },
  {
   "cell_type": "code",
   "execution_count": 1365,
   "id": "d45acef5-45e9-4042-b664-1ff135313716",
   "metadata": {},
   "outputs": [],
   "source": [
    "#there's no duplicates!gooood\n"
   ]
  },
  {
   "cell_type": "code",
   "execution_count": 1366,
   "id": "6a153d67-dbc1-4e17-a1db-e1c61363d187",
   "metadata": {},
   "outputs": [],
   "source": [
    "#We will now analyze the descriptive statistics using the describe() function \n"
   ]
  },
  {
   "cell_type": "code",
   "execution_count": 1367,
   "id": "0c79844e-bb7e-40af-a18f-bf11493d997e",
   "metadata": {},
   "outputs": [
    {
     "data": {
      "text/html": [
       "<div>\n",
       "<style scoped>\n",
       "    .dataframe tbody tr th:only-of-type {\n",
       "        vertical-align: middle;\n",
       "    }\n",
       "\n",
       "    .dataframe tbody tr th {\n",
       "        vertical-align: top;\n",
       "    }\n",
       "\n",
       "    .dataframe thead th {\n",
       "        text-align: right;\n",
       "    }\n",
       "</style>\n",
       "<table border=\"1\" class=\"dataframe\">\n",
       "  <thead>\n",
       "    <tr style=\"text-align: right;\">\n",
       "      <th></th>\n",
       "      <th>Person ID</th>\n",
       "      <th>Age</th>\n",
       "      <th>Sleep Duration</th>\n",
       "      <th>Quality of Sleep</th>\n",
       "      <th>Physical Activity Level</th>\n",
       "      <th>Stress Level</th>\n",
       "      <th>Heart Rate</th>\n",
       "      <th>Daily Steps</th>\n",
       "    </tr>\n",
       "  </thead>\n",
       "  <tbody>\n",
       "    <tr>\n",
       "      <th>count</th>\n",
       "      <td>374.000000</td>\n",
       "      <td>374.000000</td>\n",
       "      <td>374.000000</td>\n",
       "      <td>374.000000</td>\n",
       "      <td>374.000000</td>\n",
       "      <td>374.000000</td>\n",
       "      <td>374.000000</td>\n",
       "      <td>374.000000</td>\n",
       "    </tr>\n",
       "    <tr>\n",
       "      <th>mean</th>\n",
       "      <td>187.500000</td>\n",
       "      <td>42.184492</td>\n",
       "      <td>7.132086</td>\n",
       "      <td>7.312834</td>\n",
       "      <td>59.171123</td>\n",
       "      <td>5.385027</td>\n",
       "      <td>70.165775</td>\n",
       "      <td>6816.844920</td>\n",
       "    </tr>\n",
       "    <tr>\n",
       "      <th>std</th>\n",
       "      <td>108.108742</td>\n",
       "      <td>8.673133</td>\n",
       "      <td>0.795657</td>\n",
       "      <td>1.196956</td>\n",
       "      <td>20.830804</td>\n",
       "      <td>1.774526</td>\n",
       "      <td>4.135676</td>\n",
       "      <td>1617.915679</td>\n",
       "    </tr>\n",
       "    <tr>\n",
       "      <th>min</th>\n",
       "      <td>1.000000</td>\n",
       "      <td>27.000000</td>\n",
       "      <td>5.800000</td>\n",
       "      <td>4.000000</td>\n",
       "      <td>30.000000</td>\n",
       "      <td>3.000000</td>\n",
       "      <td>65.000000</td>\n",
       "      <td>3000.000000</td>\n",
       "    </tr>\n",
       "    <tr>\n",
       "      <th>25%</th>\n",
       "      <td>94.250000</td>\n",
       "      <td>35.250000</td>\n",
       "      <td>6.400000</td>\n",
       "      <td>6.000000</td>\n",
       "      <td>45.000000</td>\n",
       "      <td>4.000000</td>\n",
       "      <td>68.000000</td>\n",
       "      <td>5600.000000</td>\n",
       "    </tr>\n",
       "    <tr>\n",
       "      <th>50%</th>\n",
       "      <td>187.500000</td>\n",
       "      <td>43.000000</td>\n",
       "      <td>7.200000</td>\n",
       "      <td>7.000000</td>\n",
       "      <td>60.000000</td>\n",
       "      <td>5.000000</td>\n",
       "      <td>70.000000</td>\n",
       "      <td>7000.000000</td>\n",
       "    </tr>\n",
       "    <tr>\n",
       "      <th>75%</th>\n",
       "      <td>280.750000</td>\n",
       "      <td>50.000000</td>\n",
       "      <td>7.800000</td>\n",
       "      <td>8.000000</td>\n",
       "      <td>75.000000</td>\n",
       "      <td>7.000000</td>\n",
       "      <td>72.000000</td>\n",
       "      <td>8000.000000</td>\n",
       "    </tr>\n",
       "    <tr>\n",
       "      <th>max</th>\n",
       "      <td>374.000000</td>\n",
       "      <td>59.000000</td>\n",
       "      <td>8.500000</td>\n",
       "      <td>9.000000</td>\n",
       "      <td>90.000000</td>\n",
       "      <td>8.000000</td>\n",
       "      <td>86.000000</td>\n",
       "      <td>10000.000000</td>\n",
       "    </tr>\n",
       "  </tbody>\n",
       "</table>\n",
       "</div>"
      ],
      "text/plain": [
       "        Person ID         Age  Sleep Duration  Quality of Sleep  \\\n",
       "count  374.000000  374.000000      374.000000        374.000000   \n",
       "mean   187.500000   42.184492        7.132086          7.312834   \n",
       "std    108.108742    8.673133        0.795657          1.196956   \n",
       "min      1.000000   27.000000        5.800000          4.000000   \n",
       "25%     94.250000   35.250000        6.400000          6.000000   \n",
       "50%    187.500000   43.000000        7.200000          7.000000   \n",
       "75%    280.750000   50.000000        7.800000          8.000000   \n",
       "max    374.000000   59.000000        8.500000          9.000000   \n",
       "\n",
       "       Physical Activity Level  Stress Level  Heart Rate   Daily Steps  \n",
       "count               374.000000    374.000000  374.000000    374.000000  \n",
       "mean                 59.171123      5.385027   70.165775   6816.844920  \n",
       "std                  20.830804      1.774526    4.135676   1617.915679  \n",
       "min                  30.000000      3.000000   65.000000   3000.000000  \n",
       "25%                  45.000000      4.000000   68.000000   5600.000000  \n",
       "50%                  60.000000      5.000000   70.000000   7000.000000  \n",
       "75%                  75.000000      7.000000   72.000000   8000.000000  \n",
       "max                  90.000000      8.000000   86.000000  10000.000000  "
      ]
     },
     "execution_count": 1367,
     "metadata": {},
     "output_type": "execute_result"
    }
   ],
   "source": [
    "df.describe()"
   ]
  },
  {
   "cell_type": "code",
   "execution_count": 1368,
   "id": "398b3b42-7894-4f72-8b0c-32737ef8fdde",
   "metadata": {},
   "outputs": [
    {
     "data": {
      "text/plain": [
       "Index(['Person ID', 'Gender', 'Age', 'Occupation', 'Sleep Duration',\n",
       "       'Quality of Sleep', 'Physical Activity Level', 'Stress Level',\n",
       "       'BMI Category', 'Blood Pressure', 'Heart Rate', 'Daily Steps',\n",
       "       'Sleep Disorder'],\n",
       "      dtype='object')"
      ]
     },
     "execution_count": 1368,
     "metadata": {},
     "output_type": "execute_result"
    }
   ],
   "source": [
    "df.columns"
   ]
  },
  {
   "cell_type": "code",
   "execution_count": 1369,
   "id": "9acbd361-f7f6-46d1-9cd4-dd666d8a818e",
   "metadata": {},
   "outputs": [
    {
     "data": {
      "text/plain": [
       "2"
      ]
     },
     "execution_count": 1369,
     "metadata": {},
     "output_type": "execute_result"
    }
   ],
   "source": [
    "#Let's analyze the gender distribution\n",
    "\n",
    "\n",
    "df['Gender'].nunique(dropna=False)"
   ]
  },
  {
   "cell_type": "code",
   "execution_count": 1370,
   "id": "167ee4c6-6bdf-495b-b54c-b9b4ceb1cce1",
   "metadata": {},
   "outputs": [
    {
     "data": {
      "text/plain": [
       "array(['Male', 'Female'], dtype=object)"
      ]
     },
     "execution_count": 1370,
     "metadata": {},
     "output_type": "execute_result"
    }
   ],
   "source": [
    "#There are two categories. We can identify them using unique() and view them as an array.\n",
    "\n",
    "df['Gender'].unique()\n"
   ]
  },
  {
   "cell_type": "code",
   "execution_count": 1371,
   "id": "e89a7458-3f87-4755-a692-38511864cb0b",
   "metadata": {},
   "outputs": [],
   "source": [
    "gender_count = df['Gender'].value_counts()\n",
    "gender_percentage = df['Gender'].value_counts(normalize=True)\n",
    "gender=(df['Gender'].unique())\n"
   ]
  },
  {
   "cell_type": "code",
   "execution_count": 1372,
   "id": "c95e304f-ca31-47e3-a817-06381d3df552",
   "metadata": {},
   "outputs": [
    {
     "name": "stdout",
     "output_type": "stream",
     "text": [
      "Gender\n",
      "Male      189\n",
      "Female    185\n",
      "Name: count, dtype: int64\n"
     ]
    }
   ],
   "source": [
    "print(gender_count)\n",
    "\n"
   ]
  },
  {
   "cell_type": "code",
   "execution_count": 1373,
   "id": "68b3563f-3cd2-41af-b3dd-eefa06b1d211",
   "metadata": {},
   "outputs": [
    {
     "name": "stdout",
     "output_type": "stream",
     "text": [
      "Gender\n",
      "Male      0.505348\n",
      "Female    0.494652\n",
      "Name: proportion, dtype: float64\n"
     ]
    }
   ],
   "source": [
    "print(gender_percentage)"
   ]
  },
  {
   "cell_type": "code",
   "execution_count": 1374,
   "id": "e2417f40-8ff9-4309-881e-45fd48ad780d",
   "metadata": {},
   "outputs": [
    {
     "data": {
      "text/plain": [
       "([<matplotlib.patches.Wedge at 0x1f689453700>,\n",
       "  <matplotlib.patches.Wedge at 0x1f689453400>],\n",
       " [Text(-0.01847922934548801, 1.0998447699938374, 'Male'),\n",
       "  Text(0.01847906327354787, -1.0998447727841107, 'Female')],\n",
       " [Text(-0.010079579642993459, 0.5999153290875475, '50.5%'),\n",
       "  Text(0.010079489058298837, -0.599915330609515, '49.5%')])"
      ]
     },
     "execution_count": 1374,
     "metadata": {},
     "output_type": "execute_result"
    },
    {
     "data": {
      "image/png": "[encoded data removed]",
      "text/plain": [
       "<Figure size 1000x700 with 1 Axes>"
      ]
     },
     "metadata": {},
     "output_type": "display_data"
    }
   ],
   "source": [
    "#Let's represent this graphically.\n",
    "fig = plt.figure(figsize=(10, 7))\n",
    "plt.pie(gender_percentage, labels=gender,  autopct='%.1f%%', colors= 'green')\n"
   ]
  },
  {
   "cell_type": "markdown",
   "id": "7c76fd84-303b-4c45-b11e-17c9aef7c43c",
   "metadata": {},
   "source": [
    "We can conclude that the counts for males and females are closely aligned, suggesting a balanced distribution between the genders"
   ]
  },
  {
   "cell_type": "code",
   "execution_count": 1376,
   "id": "8e55413d-f783-40d7-8b16-ff14f748babb",
   "metadata": {},
   "outputs": [],
   "source": [
    "# Now, I will check the age "
   ]
  },
  {
   "cell_type": "code",
   "execution_count": 1377,
   "id": "3a3fd8be-ad0f-41e5-a863-fd6daa7c8840",
   "metadata": {},
   "outputs": [
    {
     "data": {
      "text/plain": [
       "0      27\n",
       "1      28\n",
       "2      28\n",
       "3      28\n",
       "4      28\n",
       "       ..\n",
       "369    59\n",
       "370    59\n",
       "371    59\n",
       "372    59\n",
       "373    59\n",
       "Name: Age, Length: 374, dtype: int64"
      ]
     },
     "execution_count": 1377,
     "metadata": {},
     "output_type": "execute_result"
    }
   ],
   "source": [
    "df['Age']"
   ]
  },
  {
   "cell_type": "code",
   "execution_count": 1378,
   "id": "db223018-9a05-4f83-8c6f-5dbe323f043f",
   "metadata": {},
   "outputs": [
    {
     "data": {
      "text/plain": [
       "count    374.000000\n",
       "mean      42.184492\n",
       "std        8.673133\n",
       "min       27.000000\n",
       "25%       35.250000\n",
       "50%       43.000000\n",
       "75%       50.000000\n",
       "max       59.000000\n",
       "Name: Age, dtype: float64"
      ]
     },
     "execution_count": 1378,
     "metadata": {},
     "output_type": "execute_result"
    }
   ],
   "source": [
    "#Let's convert this to percentages.\n",
    "\n",
    "df['Age'].describe()"
   ]
  },
  {
   "cell_type": "markdown",
   "id": "32629c0e-1f9f-4974-92eb-c807997c3db4",
   "metadata": {},
   "source": [
    "There are 374 participants in the dataset, with ages ranging from 27 to 59 years. The average age is 42.2 years, with a standard deviation of 8.7 years. \n",
    "The youngest participant is 27 years old, while the oldest is 59 years.'"
   ]
  },
  {
   "cell_type": "code",
   "execution_count": 1380,
   "id": "9a81869c-c262-4dfc-8dba-a1a8e11ec804",
   "metadata": {},
   "outputs": [
    {
     "data": {
      "image/png": "[encoded data removed]",
      "text/plain": [
       "<Figure size 1500x1000 with 1 Axes>"
      ]
     },
     "metadata": {},
     "output_type": "display_data"
    }
   ],
   "source": [
    "#Let's visualize this with a graphic for better understanding. I've chosen Seaborn over Plotly to gain more experience with Seaborn.\n",
    "\n",
    "\n",
    "\n",
    "plt.figure(figsize=(15, 10))\n",
    "sns.countplot(data = df, x='Age')\n",
    "plt.ylabel(\"Count\")\n",
    "plt.title('Age Distribution')\n",
    "plt.show()"
   ]
  },
  {
   "cell_type": "code",
   "execution_count": 1381,
   "id": "30b6ef80-39d6-4887-b048-2b09d1d5a92f",
   "metadata": {},
   "outputs": [
    {
     "data": {
      "text/plain": [
       "0         Software Engineer\n",
       "1                    Doctor\n",
       "2                    Doctor\n",
       "3      Sales Representative\n",
       "4      Sales Representative\n",
       "               ...         \n",
       "369                   Nurse\n",
       "370                   Nurse\n",
       "371                   Nurse\n",
       "372                   Nurse\n",
       "373                   Nurse\n",
       "Name: Occupation, Length: 374, dtype: object"
      ]
     },
     "execution_count": 1381,
     "metadata": {},
     "output_type": "execute_result"
    }
   ],
   "source": [
    "# Let's analyze the participants' occupations. \n",
    "\n",
    "df['Occupation']"
   ]
  },
  {
   "cell_type": "code",
   "execution_count": 1398,
   "id": "a518e0e0-05a2-4f83-81f4-d25528d0e3aa",
   "metadata": {},
   "outputs": [
    {
     "data": {
      "text/plain": [
       "count       374\n",
       "unique       11\n",
       "top       Nurse\n",
       "freq         73\n",
       "Name: Occupation, dtype: object"
      ]
     },
     "execution_count": 1398,
     "metadata": {},
     "output_type": "execute_result"
    }
   ],
   "source": [
    "df['Occupation'].describe()"
   ]
  },
  {
   "cell_type": "code",
   "execution_count": 1399,
   "id": "7dac3b42-3e0e-4df9-a1e6-b96de21e2573",
   "metadata": {},
   "outputs": [
    {
     "data": {
      "text/plain": [
       "array(['Software Engineer', 'Doctor', 'Sales Representative', 'Teacher',\n",
       "       'Nurse', 'Engineer', 'Accountant', 'Scientist', 'Lawyer',\n",
       "       'Salesperson', 'Manager'], dtype=object)"
      ]
     },
     "execution_count": 1399,
     "metadata": {},
     "output_type": "execute_result"
    }
   ],
   "source": [
    "\n",
    "\n",
    "df['Occupation'].unique()"
   ]
  },
  {
   "cell_type": "code",
   "execution_count": 1400,
   "id": "b6c67a03-a9c4-4c5b-92ca-59190cca2171",
   "metadata": {},
   "outputs": [],
   "source": [
    "occupation_count = df['Occupation'].value_counts().reset_index()"
   ]
  },
  {
   "cell_type": "code",
   "execution_count": 1401,
   "id": "13b73336-53eb-4e00-a41d-891667b50ced",
   "metadata": {},
   "outputs": [
    {
     "name": "stdout",
     "output_type": "stream",
     "text": [
      "              Occupation  count\n",
      "0                  Nurse     73\n",
      "1                 Doctor     71\n",
      "2               Engineer     63\n",
      "3                 Lawyer     47\n",
      "4                Teacher     40\n",
      "5             Accountant     37\n",
      "6            Salesperson     32\n",
      "7              Scientist      4\n",
      "8      Software Engineer      4\n",
      "9   Sales Representative      2\n",
      "10               Manager      1\n"
     ]
    }
   ],
   "source": [
    "print(occupation_count)"
   ]
  },
  {
   "cell_type": "code",
   "execution_count": 1402,
   "id": "5f425e8f-1094-4c58-935a-5f3a7c624241",
   "metadata": {},
   "outputs": [
    {
     "data": {
      "image/png": "[encoded data removed]",
      "text/plain": [
       "<Figure size 1500x1000 with 1 Axes>"
      ]
     },
     "metadata": {},
     "output_type": "display_data"
    }
   ],
   "source": [
    "plt.figure(figsize=(15, 10))\n",
    "sns.countplot(data = df, x='Occupation')\n",
    "plt.ylabel(\"Count\")\n",
    "plt.xticks(rotation=90)\n",
    "plt.title('Occupation')\n",
    "plt.show()"
   ]
  },
  {
   "cell_type": "code",
   "execution_count": 1403,
   "id": "6978d32b-c262-48f7-9c85-c8624d56ee7d",
   "metadata": {},
   "outputs": [
    {
     "data": {
      "text/plain": [
       "0      6.1\n",
       "1      6.2\n",
       "2      6.2\n",
       "3      5.9\n",
       "4      5.9\n",
       "      ... \n",
       "369    8.1\n",
       "370    8.0\n",
       "371    8.1\n",
       "372    8.1\n",
       "373    8.1\n",
       "Name: Sleep Duration, Length: 374, dtype: float64"
      ]
     },
     "execution_count": 1403,
     "metadata": {},
     "output_type": "execute_result"
    }
   ],
   "source": [
    "#Now I will check the sleep duration \n",
    "\n",
    "df['Sleep Duration']"
   ]
  },
  {
   "cell_type": "code",
   "execution_count": 1404,
   "id": "40c718ff-7cae-483d-9d9c-fbe09bab4a7d",
   "metadata": {},
   "outputs": [
    {
     "data": {
      "text/plain": [
       "count    374.0\n",
       "mean       7.1\n",
       "std        0.8\n",
       "min        5.8\n",
       "25%        6.4\n",
       "50%        7.2\n",
       "75%        7.8\n",
       "max        8.5\n",
       "Name: Sleep Duration, dtype: float64"
      ]
     },
     "execution_count": 1404,
     "metadata": {},
     "output_type": "execute_result"
    }
   ],
   "source": [
    "df['Sleep Duration'].describe().round(1)"
   ]
  },
  {
   "cell_type": "code",
   "execution_count": 1405,
   "id": "bba2124d-17aa-4caa-af9d-4fe80747bcdd",
   "metadata": {},
   "outputs": [
    {
     "data": {
      "image/png": "[encoded data removed]",
      "text/plain": [
       "<Figure size 900x600 with 1 Axes>"
      ]
     },
     "metadata": {},
     "output_type": "display_data"
    }
   ],
   "source": [
    "plt.figure(figsize=(9, 6))\n",
    "sns.countplot(data=df, x='Sleep Duration')\n",
    "plt.ylabel(\"Count\")\n",
    "plt.title('Sleep Duration')\n",
    "plt.show()"
   ]
  },
  {
   "cell_type": "markdown",
   "id": "4bcb4a29-1755-487c-a3ab-7148ba8ba6f5",
   "metadata": {},
   "source": [
    "The average participant sleep duration was 7.1 hours, and the majority of participants slept between 6.4 and 7.8 hours."
   ]
  },
  {
   "cell_type": "code",
   "execution_count": 1407,
   "id": "71dc8245-9cbf-4b53-94d1-547fa71a6645",
   "metadata": {},
   "outputs": [
    {
     "data": {
      "text/plain": [
       "array([6, 4, 7, 5, 8, 9])"
      ]
     },
     "execution_count": 1407,
     "metadata": {},
     "output_type": "execute_result"
    }
   ],
   "source": [
    "#We have another interesting index: quality of sleep.\n",
    "\n",
    "df['Quality of Sleep'].unique()\n"
   ]
  },
  {
   "cell_type": "code",
   "execution_count": 1408,
   "id": "944a8e3e-5ef3-4624-9bc0-b8ccb13d72a1",
   "metadata": {},
   "outputs": [
    {
     "data": {
      "text/html": [
       "<div>\n",
       "<style scoped>\n",
       "    .dataframe tbody tr th:only-of-type {\n",
       "        vertical-align: middle;\n",
       "    }\n",
       "\n",
       "    .dataframe tbody tr th {\n",
       "        vertical-align: top;\n",
       "    }\n",
       "\n",
       "    .dataframe thead th {\n",
       "        text-align: right;\n",
       "    }\n",
       "</style>\n",
       "<table border=\"1\" class=\"dataframe\">\n",
       "  <thead>\n",
       "    <tr style=\"text-align: right;\">\n",
       "      <th></th>\n",
       "      <th>Quality of Sleep</th>\n",
       "      <th>count</th>\n",
       "    </tr>\n",
       "  </thead>\n",
       "  <tbody>\n",
       "    <tr>\n",
       "      <th>0</th>\n",
       "      <td>8</td>\n",
       "      <td>109</td>\n",
       "    </tr>\n",
       "    <tr>\n",
       "      <th>1</th>\n",
       "      <td>6</td>\n",
       "      <td>105</td>\n",
       "    </tr>\n",
       "    <tr>\n",
       "      <th>2</th>\n",
       "      <td>7</td>\n",
       "      <td>77</td>\n",
       "    </tr>\n",
       "    <tr>\n",
       "      <th>3</th>\n",
       "      <td>9</td>\n",
       "      <td>71</td>\n",
       "    </tr>\n",
       "    <tr>\n",
       "      <th>4</th>\n",
       "      <td>5</td>\n",
       "      <td>7</td>\n",
       "    </tr>\n",
       "    <tr>\n",
       "      <th>5</th>\n",
       "      <td>4</td>\n",
       "      <td>5</td>\n",
       "    </tr>\n",
       "  </tbody>\n",
       "</table>\n",
       "</div>"
      ],
      "text/plain": [
       "   Quality of Sleep  count\n",
       "0                 8    109\n",
       "1                 6    105\n",
       "2                 7     77\n",
       "3                 9     71\n",
       "4                 5      7\n",
       "5                 4      5"
      ]
     },
     "execution_count": 1408,
     "metadata": {},
     "output_type": "execute_result"
    }
   ],
   "source": [
    "\n",
    "quality_of_sleep_count = df['Quality of Sleep'].value_counts().reset_index()\n",
    "quality_of_sleep_count"
   ]
  },
  {
   "cell_type": "code",
   "execution_count": 1409,
   "id": "d57d47e8-20f6-4378-8e90-42df44503ea5",
   "metadata": {},
   "outputs": [
    {
     "data": {
      "image/png": "[encoded data removed]",
      "text/plain": [
       "<Figure size 1500x1000 with 1 Axes>"
      ]
     },
     "metadata": {},
     "output_type": "display_data"
    }
   ],
   "source": [
    "plt.figure(figsize=(15, 10))\n",
    "sns.countplot(data = df, x='Quality of Sleep')\n",
    "plt.ylabel(\"Count\")\n",
    "plt.title('Quality of Sleep(in hours)')\n",
    "plt.show()"
   ]
  },
  {
   "cell_type": "code",
   "execution_count": 1410,
   "id": "6b2faf55-4e7c-4479-aa0d-029ba5cb97e5",
   "metadata": {},
   "outputs": [
    {
     "data": {
      "text/plain": [
       "0      42\n",
       "1      60\n",
       "2      60\n",
       "3      30\n",
       "4      30\n",
       "       ..\n",
       "369    75\n",
       "370    75\n",
       "371    75\n",
       "372    75\n",
       "373    75\n",
       "Name: Physical Activity Level, Length: 374, dtype: int64"
      ]
     },
     "execution_count": 1410,
     "metadata": {},
     "output_type": "execute_result"
    }
   ],
   "source": [
    "# Let's examine the activity levels of these participants.\n",
    "\n",
    "df['Physical Activity Level']"
   ]
  },
  {
   "cell_type": "code",
   "execution_count": 1411,
   "id": "3eca7d71-a30d-46d4-9fc2-a792ce4ff520",
   "metadata": {},
   "outputs": [
    {
     "data": {
      "text/plain": [
       "count    374.000000\n",
       "mean      59.171123\n",
       "std       20.830804\n",
       "min       30.000000\n",
       "25%       45.000000\n",
       "50%       60.000000\n",
       "75%       75.000000\n",
       "max       90.000000\n",
       "Name: Physical Activity Level, dtype: float64"
      ]
     },
     "execution_count": 1411,
     "metadata": {},
     "output_type": "execute_result"
    }
   ],
   "source": [
    "df['Physical Activity Level'].describe()"
   ]
  },
  {
   "cell_type": "code",
   "execution_count": 1412,
   "id": "66ef29b9-41da-417c-a96a-4551ce4fda32",
   "metadata": {},
   "outputs": [
    {
     "data": {
      "text/html": [
       "<div>\n",
       "<style scoped>\n",
       "    .dataframe tbody tr th:only-of-type {\n",
       "        vertical-align: middle;\n",
       "    }\n",
       "\n",
       "    .dataframe tbody tr th {\n",
       "        vertical-align: top;\n",
       "    }\n",
       "\n",
       "    .dataframe thead th {\n",
       "        text-align: right;\n",
       "    }\n",
       "</style>\n",
       "<table border=\"1\" class=\"dataframe\">\n",
       "  <thead>\n",
       "    <tr style=\"text-align: right;\">\n",
       "      <th></th>\n",
       "      <th>Physical Activity Level</th>\n",
       "      <th>count</th>\n",
       "    </tr>\n",
       "  </thead>\n",
       "  <tbody>\n",
       "    <tr>\n",
       "      <th>0</th>\n",
       "      <td>60</td>\n",
       "      <td>70</td>\n",
       "    </tr>\n",
       "    <tr>\n",
       "      <th>1</th>\n",
       "      <td>30</td>\n",
       "      <td>68</td>\n",
       "    </tr>\n",
       "    <tr>\n",
       "      <th>2</th>\n",
       "      <td>45</td>\n",
       "      <td>68</td>\n",
       "    </tr>\n",
       "    <tr>\n",
       "      <th>3</th>\n",
       "      <td>75</td>\n",
       "      <td>67</td>\n",
       "    </tr>\n",
       "    <tr>\n",
       "      <th>4</th>\n",
       "      <td>90</td>\n",
       "      <td>67</td>\n",
       "    </tr>\n",
       "    <tr>\n",
       "      <th>5</th>\n",
       "      <td>40</td>\n",
       "      <td>6</td>\n",
       "    </tr>\n",
       "    <tr>\n",
       "      <th>6</th>\n",
       "      <td>55</td>\n",
       "      <td>6</td>\n",
       "    </tr>\n",
       "    <tr>\n",
       "      <th>7</th>\n",
       "      <td>35</td>\n",
       "      <td>4</td>\n",
       "    </tr>\n",
       "    <tr>\n",
       "      <th>8</th>\n",
       "      <td>50</td>\n",
       "      <td>4</td>\n",
       "    </tr>\n",
       "    <tr>\n",
       "      <th>9</th>\n",
       "      <td>70</td>\n",
       "      <td>3</td>\n",
       "    </tr>\n",
       "    <tr>\n",
       "      <th>10</th>\n",
       "      <td>42</td>\n",
       "      <td>2</td>\n",
       "    </tr>\n",
       "    <tr>\n",
       "      <th>11</th>\n",
       "      <td>32</td>\n",
       "      <td>2</td>\n",
       "    </tr>\n",
       "    <tr>\n",
       "      <th>12</th>\n",
       "      <td>80</td>\n",
       "      <td>2</td>\n",
       "    </tr>\n",
       "    <tr>\n",
       "      <th>13</th>\n",
       "      <td>65</td>\n",
       "      <td>2</td>\n",
       "    </tr>\n",
       "    <tr>\n",
       "      <th>14</th>\n",
       "      <td>85</td>\n",
       "      <td>2</td>\n",
       "    </tr>\n",
       "    <tr>\n",
       "      <th>15</th>\n",
       "      <td>47</td>\n",
       "      <td>1</td>\n",
       "    </tr>\n",
       "  </tbody>\n",
       "</table>\n",
       "</div>"
      ],
      "text/plain": [
       "    Physical Activity Level  count\n",
       "0                        60     70\n",
       "1                        30     68\n",
       "2                        45     68\n",
       "3                        75     67\n",
       "4                        90     67\n",
       "5                        40      6\n",
       "6                        55      6\n",
       "7                        35      4\n",
       "8                        50      4\n",
       "9                        70      3\n",
       "10                       42      2\n",
       "11                       32      2\n",
       "12                       80      2\n",
       "13                       65      2\n",
       "14                       85      2\n",
       "15                       47      1"
      ]
     },
     "execution_count": 1412,
     "metadata": {},
     "output_type": "execute_result"
    }
   ],
   "source": [
    "physical_count = df['Physical Activity Level'].value_counts().reset_index()\n",
    "physical_count"
   ]
  },
  {
   "cell_type": "code",
   "execution_count": 1413,
   "id": "82813e27-85dc-436c-a715-d7a44cbab0b7",
   "metadata": {},
   "outputs": [
    {
     "data": {
      "image/png": "[encoded data removed]",
      "text/plain": [
       "<Figure size 1000x800 with 1 Axes>"
      ]
     },
     "metadata": {},
     "output_type": "display_data"
    }
   ],
   "source": [
    "plt.figure(figsize=(10, 8))\n",
    "sns.countplot(data = df, x='Physical Activity Level')\n",
    "plt.ylabel(\"Count\")\n",
    "plt.title('Physical Activity Level')\n",
    "plt.show()"
   ]
  },
  {
   "cell_type": "code",
   "execution_count": 1414,
   "id": "4d835d02-06c7-4c92-8dc0-3f448e04a2fc",
   "metadata": {},
   "outputs": [],
   "source": [
    "#It can be concluded that the index quantifies activity on a scale ranging from 0 (non-active) to 100 (very active)\n",
    "\n"
   ]
  },
  {
   "cell_type": "markdown",
   "id": "9a61bc15-8da7-457b-9a4f-bdcd88cecf01",
   "metadata": {},
   "source": [
    "The average physical activity level reported by participants is 59, with a standard deviation of approximately 20.83, indicating some variability in reported activity levels."
   ]
  },
  {
   "cell_type": "code",
   "execution_count": 1416,
   "id": "c665af0d-9395-47b0-8b83-5d09b0e86a41",
   "metadata": {},
   "outputs": [
    {
     "data": {
      "text/html": [
       "<div>\n",
       "<style scoped>\n",
       "    .dataframe tbody tr th:only-of-type {\n",
       "        vertical-align: middle;\n",
       "    }\n",
       "\n",
       "    .dataframe tbody tr th {\n",
       "        vertical-align: top;\n",
       "    }\n",
       "\n",
       "    .dataframe thead th {\n",
       "        text-align: right;\n",
       "    }\n",
       "</style>\n",
       "<table border=\"1\" class=\"dataframe\">\n",
       "  <thead>\n",
       "    <tr style=\"text-align: right;\">\n",
       "      <th></th>\n",
       "      <th>Stress Level</th>\n",
       "      <th>count</th>\n",
       "    </tr>\n",
       "  </thead>\n",
       "  <tbody>\n",
       "    <tr>\n",
       "      <th>0</th>\n",
       "      <td>3</td>\n",
       "      <td>71</td>\n",
       "    </tr>\n",
       "    <tr>\n",
       "      <th>1</th>\n",
       "      <td>8</td>\n",
       "      <td>70</td>\n",
       "    </tr>\n",
       "    <tr>\n",
       "      <th>2</th>\n",
       "      <td>4</td>\n",
       "      <td>70</td>\n",
       "    </tr>\n",
       "    <tr>\n",
       "      <th>3</th>\n",
       "      <td>5</td>\n",
       "      <td>67</td>\n",
       "    </tr>\n",
       "    <tr>\n",
       "      <th>4</th>\n",
       "      <td>7</td>\n",
       "      <td>50</td>\n",
       "    </tr>\n",
       "    <tr>\n",
       "      <th>5</th>\n",
       "      <td>6</td>\n",
       "      <td>46</td>\n",
       "    </tr>\n",
       "  </tbody>\n",
       "</table>\n",
       "</div>"
      ],
      "text/plain": [
       "   Stress Level  count\n",
       "0             3     71\n",
       "1             8     70\n",
       "2             4     70\n",
       "3             5     67\n",
       "4             7     50\n",
       "5             6     46"
      ]
     },
     "execution_count": 1416,
     "metadata": {},
     "output_type": "execute_result"
    }
   ],
   "source": [
    "#Now, let's check the stress level\n",
    "\n",
    "stress_level_counts=df['Stress Level'].value_counts().reset_index()\n",
    "\n",
    "stress_level_counts"
   ]
  },
  {
   "cell_type": "code",
   "execution_count": 1417,
   "id": "311414c5-396d-4dd5-b7c7-c045d08adcb8",
   "metadata": {},
   "outputs": [
    {
     "data": {
      "text/plain": [
       "count    374.000000\n",
       "mean       5.385027\n",
       "std        1.774526\n",
       "min        3.000000\n",
       "25%        4.000000\n",
       "50%        5.000000\n",
       "75%        7.000000\n",
       "max        8.000000\n",
       "Name: Stress Level, dtype: float64"
      ]
     },
     "execution_count": 1417,
     "metadata": {},
     "output_type": "execute_result"
    }
   ],
   "source": [
    "df['Stress Level'].describe()"
   ]
  },
  {
   "cell_type": "code",
   "execution_count": 1418,
   "id": "0c94ae25-d923-4c5e-a2d1-be95c60a3bf9",
   "metadata": {},
   "outputs": [
    {
     "data": {
      "image/png": "[encoded data removed]",
      "text/plain": [
       "<Figure size 1000x800 with 1 Axes>"
      ]
     },
     "metadata": {},
     "output_type": "display_data"
    }
   ],
   "source": [
    "plt.figure(figsize=(10, 8))\n",
    "sns.countplot(data = df, x='Stress Level')\n",
    "plt.ylabel(\"Count\")\n",
    "plt.title('Stress Level')\n",
    "plt.show()"
   ]
  },
  {
   "cell_type": "code",
   "execution_count": 1419,
   "id": "ada3097a-014e-463e-b49f-1d4bd79844d5",
   "metadata": {},
   "outputs": [
    {
     "data": {
      "image/png": "[encoded data removed]",
      "text/plain": [
       "<Figure size 640x480 with 1 Axes>"
      ]
     },
     "metadata": {},
     "output_type": "display_data"
    }
   ],
   "source": [
    "#Let's analyze stress levels across different occupations. We will group the data by 'Occupation' \n",
    "#and 'Stress Level' to count occurrences. I'll also experiment with the 'Set2' color palette for visualization.\n",
    "\n",
    "occupationstress = df.groupby('Occupation')['Stress Level'].value_counts().reset_index()\n",
    "sns.barplot(data=occupationstress,x='Occupation',y='count',palette='Set2', hue='Stress Level', alpha=0.8,width=0.8) \n",
    "plt.title('Stress Level Distribution Across Occupations')\n",
    "plt.xlabel('Stress Level')\n",
    "plt.ylabel('count')\n",
    "plt.xticks(rotation=90)\n",
    "plt.legend(loc='upper left',bbox_to_anchor=(1, 1))\n",
    "plt.show()\n"
   ]
  },
  {
   "cell_type": "code",
   "execution_count": 1425,
   "id": "dfe0f1f7-934b-4248-a39b-f1e1e4a78d6d",
   "metadata": {},
   "outputs": [
    {
     "data": {
      "text/plain": [
       "array(['Overweight', 'Normal', 'Obese', 'Normal Weight'], dtype=object)"
      ]
     },
     "execution_count": 1425,
     "metadata": {},
     "output_type": "execute_result"
    }
   ],
   "source": [
    "#Check the BMI\n",
    "\n",
    "df['BMI Category'].unique()"
   ]
  },
  {
   "cell_type": "code",
   "execution_count": 1426,
   "id": "95d10a3c-367a-45de-a3ff-1ef289c742e9",
   "metadata": {},
   "outputs": [
    {
     "data": {
      "text/plain": [
       "count        374\n",
       "unique         4\n",
       "top       Normal\n",
       "freq         195\n",
       "Name: BMI Category, dtype: object"
      ]
     },
     "execution_count": 1426,
     "metadata": {},
     "output_type": "execute_result"
    }
   ],
   "source": [
    "#As we can see, there are two similar categories: 'Normal' and 'Normal Weight'. Let's investigate the differences between them\n",
    "df['BMI Category'].describe()"
   ]
  },
  {
   "cell_type": "code",
   "execution_count": 1427,
   "id": "7119d7df-5c87-4bf2-9d98-a5a800d2f4a8",
   "metadata": {},
   "outputs": [
    {
     "data": {
      "text/plain": [
       "0      Overweight\n",
       "1          Normal\n",
       "2          Normal\n",
       "3           Obese\n",
       "4           Obese\n",
       "          ...    \n",
       "369    Overweight\n",
       "370    Overweight\n",
       "371    Overweight\n",
       "372    Overweight\n",
       "373    Overweight\n",
       "Name: BMI Category, Length: 374, dtype: object"
      ]
     },
     "execution_count": 1427,
     "metadata": {},
     "output_type": "execute_result"
    }
   ],
   "source": [
    "df['BMI Category']"
   ]
  },
  {
   "cell_type": "code",
   "execution_count": 1428,
   "id": "66663c01-bc22-4b2c-9a5e-b37632893c74",
   "metadata": {},
   "outputs": [
    {
     "name": "stdout",
     "output_type": "stream",
     "text": [
      "True\n"
     ]
    }
   ],
   "source": [
    "check=df['BMI Category'].str.contains('Normal').any()\n",
    "print(check)"
   ]
  },
  {
   "cell_type": "code",
   "execution_count": 1429,
   "id": "d11b51db-108b-45f1-99e3-dbfdfa8c173a",
   "metadata": {},
   "outputs": [
    {
     "name": "stdout",
     "output_type": "stream",
     "text": [
      "     Person ID  Gender  Age Occupation  Sleep Duration  Quality of Sleep  \\\n",
      "1            2    Male   28     Doctor             6.2                 6   \n",
      "2            3    Male   28     Doctor             6.2                 6   \n",
      "7            8    Male   29     Doctor             7.8                 7   \n",
      "8            9    Male   29     Doctor             7.8                 7   \n",
      "9           10    Male   29     Doctor             7.8                 7   \n",
      "..         ...     ...  ...        ...             ...               ...   \n",
      "336        337  Female   54   Engineer             8.4                 9   \n",
      "337        338  Female   54   Engineer             8.4                 9   \n",
      "338        339  Female   54   Engineer             8.5                 9   \n",
      "341        342  Female   56     Doctor             8.2                 9   \n",
      "342        343  Female   56     Doctor             8.2                 9   \n",
      "\n",
      "     Physical Activity Level  Stress Level   BMI Category Blood Pressure  \\\n",
      "1                         60             8         Normal         125/80   \n",
      "2                         60             8         Normal         125/80   \n",
      "7                         75             6         Normal         120/80   \n",
      "8                         75             6         Normal         120/80   \n",
      "9                         75             6         Normal         120/80   \n",
      "..                       ...           ...            ...            ...   \n",
      "336                       30             3         Normal         125/80   \n",
      "337                       30             3         Normal         125/80   \n",
      "338                       30             3         Normal         125/80   \n",
      "341                       90             3  Normal Weight         118/75   \n",
      "342                       90             3  Normal Weight         118/75   \n",
      "\n",
      "     Heart Rate  Daily Steps Sleep Disorder  \n",
      "1            75        10000           None  \n",
      "2            75        10000           None  \n",
      "7            70         8000           None  \n",
      "8            70         8000           None  \n",
      "9            70         8000           None  \n",
      "..          ...          ...            ...  \n",
      "336          65         5000           None  \n",
      "337          65         5000           None  \n",
      "338          65         5000           None  \n",
      "341          65        10000           None  \n",
      "342          65        10000           None  \n",
      "\n",
      "[216 rows x 13 columns]\n"
     ]
    }
   ],
   "source": [
    "check1 = df[df['BMI Category'].str.contains('Normal')] \n",
    "print(check1) "
   ]
  },
  {
   "cell_type": "code",
   "execution_count": 1430,
   "id": "719cebcb-e622-4cb1-930f-2852d55487c4",
   "metadata": {},
   "outputs": [
    {
     "data": {
      "text/plain": [
       "array(['Overweight', 'Normal', 'Obese', 'Normal Weight'], dtype=object)"
      ]
     },
     "execution_count": 1430,
     "metadata": {},
     "output_type": "execute_result"
    }
   ],
   "source": [
    "df['BMI Category'].unique()"
   ]
  },
  {
   "cell_type": "code",
   "execution_count": 1431,
   "id": "fdd4e04a-d4a7-437f-83c4-d22f9186737a",
   "metadata": {},
   "outputs": [],
   "source": [
    "#We conclude that 'Normal' and 'Normal Weight' represent the same category. Therefore, I will replace 'Normal' with 'Normal Weight'.\n",
    "\n",
    "df['BMI Category'] = df['BMI Category'].replace({'Normal': 'Normal Weight'})"
   ]
  },
  {
   "cell_type": "code",
   "execution_count": 1432,
   "id": "08252121-fd8c-4bb9-93fe-2349e73cbc22",
   "metadata": {},
   "outputs": [
    {
     "data": {
      "text/plain": [
       "array(['Overweight', 'Normal Weight', 'Obese'], dtype=object)"
      ]
     },
     "execution_count": 1432,
     "metadata": {},
     "output_type": "execute_result"
    }
   ],
   "source": [
    "df['BMI Category'].unique()"
   ]
  },
  {
   "cell_type": "code",
   "execution_count": 1433,
   "id": "786504bf-116b-4ec4-8ae5-69f78d56ef5b",
   "metadata": {},
   "outputs": [],
   "source": [
    "bmi_category_count=df['BMI Category'].value_counts()\n",
    "bmi_category_percentage = df['BMI Category'].value_counts(normalize=True)"
   ]
  },
  {
   "cell_type": "code",
   "execution_count": 1434,
   "id": "487ca2c5-9445-4752-ab25-34120bc9adc4",
   "metadata": {},
   "outputs": [
    {
     "name": "stdout",
     "output_type": "stream",
     "text": [
      "BMI Category\n",
      "Normal Weight    216\n",
      "Overweight       148\n",
      "Obese             10\n",
      "Name: count, dtype: int64\n"
     ]
    }
   ],
   "source": [
    "print(bmi_category_count.head(10))"
   ]
  },
  {
   "cell_type": "code",
   "execution_count": 1435,
   "id": "8ae9f7fb-c359-49b9-9b4f-2d08c998ef52",
   "metadata": {},
   "outputs": [],
   "source": [
    "#A subset of the data will be generated to demonstrate this information"
   ]
  },
  {
   "cell_type": "code",
   "execution_count": 1436,
   "id": "20de7f6d-7d03-47d4-80bc-f03776b32ee8",
   "metadata": {},
   "outputs": [
    {
     "data": {
      "text/html": [
       "<div>\n",
       "<style scoped>\n",
       "    .dataframe tbody tr th:only-of-type {\n",
       "        vertical-align: middle;\n",
       "    }\n",
       "\n",
       "    .dataframe tbody tr th {\n",
       "        vertical-align: top;\n",
       "    }\n",
       "\n",
       "    .dataframe thead th {\n",
       "        text-align: right;\n",
       "    }\n",
       "</style>\n",
       "<table border=\"1\" class=\"dataframe\">\n",
       "  <thead>\n",
       "    <tr style=\"text-align: right;\">\n",
       "      <th></th>\n",
       "      <th>Count</th>\n",
       "      <th>Proportion</th>\n",
       "    </tr>\n",
       "    <tr>\n",
       "      <th>BMI Category</th>\n",
       "      <th></th>\n",
       "      <th></th>\n",
       "    </tr>\n",
       "  </thead>\n",
       "  <tbody>\n",
       "    <tr>\n",
       "      <th>Normal Weight</th>\n",
       "      <td>216</td>\n",
       "      <td>57.8%</td>\n",
       "    </tr>\n",
       "    <tr>\n",
       "      <th>Overweight</th>\n",
       "      <td>148</td>\n",
       "      <td>39.6%</td>\n",
       "    </tr>\n",
       "    <tr>\n",
       "      <th>Obese</th>\n",
       "      <td>10</td>\n",
       "      <td>2.7%</td>\n",
       "    </tr>\n",
       "  </tbody>\n",
       "</table>\n",
       "</div>"
      ],
      "text/plain": [
       "               Count Proportion\n",
       "BMI Category                   \n",
       "Normal Weight    216      57.8%\n",
       "Overweight       148      39.6%\n",
       "Obese             10       2.7%"
      ]
     },
     "execution_count": 1436,
     "metadata": {},
     "output_type": "execute_result"
    }
   ],
   "source": [
    "bmi_df = pd.DataFrame({\n",
    "    'Count': bmi_category_count,\n",
    "    'Proportion': bmi_category_percentage\n",
    "})\n",
    "bmi_df['Proportion'] = bmi_df['Proportion'].apply(\"{:.1%}\".format)\n",
    "\n",
    "bmi_df"
   ]
  },
  {
   "cell_type": "code",
   "execution_count": 1437,
   "id": "72a84841-6a27-4cdf-ab26-6e2ef477ac20",
   "metadata": {},
   "outputs": [
    {
     "data": {
      "text/plain": [
       "([<matplotlib.patches.Wedge at 0x1f68b9c46a0>,\n",
       "  <matplotlib.patches.Wedge at 0x1f68b9c45e0>,\n",
       "  <matplotlib.patches.Wedge at 0x1f68b9cd370>],\n",
       " [Text(-0.26531710677461573, 1.0675236919397841, 'Normal Weight'),\n",
       "  Text(0.17481540841434265, -1.0860200610398165, 'Overweight'),\n",
       "  Text(1.0961215313084505, -0.09229078286599182, 'Obese')],\n",
       " [Text(-0.1447184218770631, 0.5822856501489732, '57.8%'),\n",
       "  Text(0.09535385913509598, -0.5923745787489908, '39.6%'),\n",
       "  Text(0.5978844716227911, -0.050340427017813716, '2.7%')])"
      ]
     },
     "execution_count": 1437,
     "metadata": {},
     "output_type": "execute_result"
    },
    {
     "data": {
      "image/png": "[encoded data removed]",
      "text/plain": [
       "<Figure size 640x480 with 1 Axes>"
      ]
     },
     "metadata": {},
     "output_type": "display_data"
    }
   ],
   "source": [
    "# will use a pie chart to better represent this part of the dataset.\n",
    "bmi_df['Proportion'] = pd.to_numeric(bmi_df['Proportion'], downcast='float', errors='coerce')\n",
    "my_colors=['blue','orange','green']\n",
    "\n",
    "plt.pie(bmi_category_count, labels=bmi_category_count.index, autopct='%1.1f%%',colors=my_colors)\n",
    "\n",
    "\n"
   ]
  },
  {
   "cell_type": "markdown",
   "id": "65e677d9-6382-43ce-b458-3606d2c82822",
   "metadata": {},
   "source": [
    "We have the information :</p>\n",
    "Normal Weight: 216 participants (57.8%)</p>\n",
    "Overweight: 148 participants (39.6%)</p>\n",
    "Obese: 10 participants (2.7%)</p>"
   ]
  },
  {
   "cell_type": "code",
   "execution_count": 1439,
   "id": "5be8a1d9-f891-4958-849f-e864d7fed4c4",
   "metadata": {},
   "outputs": [
    {
     "data": {
      "image/png": "[encoded data removed]",
      "text/plain": [
       "<Figure size 640x480 with 1 Axes>"
      ]
     },
     "metadata": {},
     "output_type": "display_data"
    }
   ],
   "source": [
    "#Let's examine across the professions.\n",
    "\n",
    "BMI_professions=df.groupby('Occupation')['BMI Category'].value_counts().reset_index()\n",
    "\n",
    "sns.barplot(data=BMI_professions,x='Occupation',y='count',palette='Set1', hue='BMI Category', alpha=0.8,width=0.8) \n",
    "plt.title('BMI Levels Across Occupations')\n",
    "plt.xlabel('BMI Category')\n",
    "plt.ylabel('count')\n",
    "plt.xticks(rotation=90)\n",
    "plt.legend(loc='upper left',bbox_to_anchor=(1, 1))\n",
    "plt.show()\n"
   ]
  },
  {
   "cell_type": "code",
   "execution_count": 1440,
   "id": "78bb7461-e750-4fb0-b49e-2fb02319df58",
   "metadata": {},
   "outputs": [],
   "source": [
    "#now, let's check the blood pressure"
   ]
  },
  {
   "cell_type": "code",
   "execution_count": 1441,
   "id": "061f7725-7e78-4db9-b00d-14760dd35666",
   "metadata": {},
   "outputs": [
    {
     "data": {
      "text/plain": [
       "0      126/83\n",
       "1      125/80\n",
       "2      125/80\n",
       "3      140/90\n",
       "4      140/90\n",
       "        ...  \n",
       "369    140/95\n",
       "370    140/95\n",
       "371    140/95\n",
       "372    140/95\n",
       "373    140/95\n",
       "Name: Blood Pressure, Length: 374, dtype: object"
      ]
     },
     "execution_count": 1441,
     "metadata": {},
     "output_type": "execute_result"
    }
   ],
   "source": [
    "df['Blood Pressure']"
   ]
  },
  {
   "cell_type": "code",
   "execution_count": 1442,
   "id": "fa435c8f-28e3-4fe5-93e9-9e6d5e3145ea",
   "metadata": {},
   "outputs": [],
   "source": [
    "#As we can see, 'pressure' has two distinct categories. Let's investigate this further.\n"
   ]
  },
  {
   "cell_type": "code",
   "execution_count": 1443,
   "id": "781cf354-9912-49a3-88b8-579bbca99779",
   "metadata": {},
   "outputs": [],
   "source": [
    "#The 'Blood Pressure' column will be split into two separate columns, 'Systolic Pressure' and 'Diastolic Pressure'\n",
    "\n",
    "splitting_pressure = df['Blood Pressure'].str.split('/', n=1, expand=True)"
   ]
  },
  {
   "cell_type": "code",
   "execution_count": 1448,
   "id": "4aeb866b-6e9a-49dd-8e53-31c524c58bc1",
   "metadata": {},
   "outputs": [
    {
     "data": {
      "text/html": [
       "<div>\n",
       "<style scoped>\n",
       "    .dataframe tbody tr th:only-of-type {\n",
       "        vertical-align: middle;\n",
       "    }\n",
       "\n",
       "    .dataframe tbody tr th {\n",
       "        vertical-align: top;\n",
       "    }\n",
       "\n",
       "    .dataframe thead th {\n",
       "        text-align: right;\n",
       "    }\n",
       "</style>\n",
       "<table border=\"1\" class=\"dataframe\">\n",
       "  <thead>\n",
       "    <tr style=\"text-align: right;\">\n",
       "      <th></th>\n",
       "      <th>0</th>\n",
       "      <th>1</th>\n",
       "    </tr>\n",
       "  </thead>\n",
       "  <tbody>\n",
       "    <tr>\n",
       "      <th>0</th>\n",
       "      <td>126</td>\n",
       "      <td>83</td>\n",
       "    </tr>\n",
       "    <tr>\n",
       "      <th>1</th>\n",
       "      <td>125</td>\n",
       "      <td>80</td>\n",
       "    </tr>\n",
       "    <tr>\n",
       "      <th>2</th>\n",
       "      <td>125</td>\n",
       "      <td>80</td>\n",
       "    </tr>\n",
       "    <tr>\n",
       "      <th>3</th>\n",
       "      <td>140</td>\n",
       "      <td>90</td>\n",
       "    </tr>\n",
       "    <tr>\n",
       "      <th>4</th>\n",
       "      <td>140</td>\n",
       "      <td>90</td>\n",
       "    </tr>\n",
       "    <tr>\n",
       "      <th>5</th>\n",
       "      <td>140</td>\n",
       "      <td>90</td>\n",
       "    </tr>\n",
       "    <tr>\n",
       "      <th>6</th>\n",
       "      <td>140</td>\n",
       "      <td>90</td>\n",
       "    </tr>\n",
       "    <tr>\n",
       "      <th>7</th>\n",
       "      <td>120</td>\n",
       "      <td>80</td>\n",
       "    </tr>\n",
       "    <tr>\n",
       "      <th>8</th>\n",
       "      <td>120</td>\n",
       "      <td>80</td>\n",
       "    </tr>\n",
       "    <tr>\n",
       "      <th>9</th>\n",
       "      <td>120</td>\n",
       "      <td>80</td>\n",
       "    </tr>\n",
       "  </tbody>\n",
       "</table>\n",
       "</div>"
      ],
      "text/plain": [
       "     0   1\n",
       "0  126  83\n",
       "1  125  80\n",
       "2  125  80\n",
       "3  140  90\n",
       "4  140  90\n",
       "5  140  90\n",
       "6  140  90\n",
       "7  120  80\n",
       "8  120  80\n",
       "9  120  80"
      ]
     },
     "execution_count": 1448,
     "metadata": {},
     "output_type": "execute_result"
    }
   ],
   "source": [
    "splitting_pressure.head(10)"
   ]
  },
  {
   "cell_type": "code",
   "execution_count": 1452,
   "id": "83ff6155-73f1-4d60-9c73-2b8fcadd2e27",
   "metadata": {},
   "outputs": [],
   "source": [
    "#as we can see, there are 2 columns, let's rename it\n",
    "df['Systolic Pressure'] = splitting_pressure[0].astype(float) \n",
    "df['Diastolic Pressure'] = splitting_pressure[1].astype(float) \n"
   ]
  },
  {
   "cell_type": "code",
   "execution_count": 1454,
   "id": "9de166b4-9391-4731-a026-e75dc5bbb0ae",
   "metadata": {},
   "outputs": [
    {
     "data": {
      "text/plain": [
       "0    126.0\n",
       "1    125.0\n",
       "2    125.0\n",
       "3    140.0\n",
       "4    140.0\n",
       "5    140.0\n",
       "6    140.0\n",
       "7    120.0\n",
       "8    120.0\n",
       "9    120.0\n",
       "Name: Systolic Pressure, dtype: float64"
      ]
     },
     "execution_count": 1454,
     "metadata": {},
     "output_type": "execute_result"
    }
   ],
   "source": [
    "df['Systolic Pressure'].head(10)"
   ]
  },
  {
   "cell_type": "code",
   "execution_count": 1457,
   "id": "cf6ab53f-5d4f-41f1-ad75-ed54849fb9df",
   "metadata": {},
   "outputs": [
    {
     "data": {
      "text/plain": [
       "0    83.0\n",
       "1    80.0\n",
       "2    80.0\n",
       "3    90.0\n",
       "4    90.0\n",
       "5    90.0\n",
       "6    90.0\n",
       "7    80.0\n",
       "8    80.0\n",
       "9    80.0\n",
       "Name: Diastolic Pressure, dtype: float64"
      ]
     },
     "execution_count": 1457,
     "metadata": {},
     "output_type": "execute_result"
    }
   ],
   "source": [
    "df['Diastolic Pressure'].head(10)"
   ]
  },
  {
   "cell_type": "markdown",
   "id": "852318cc-49b1-4abf-bf0d-08bac42bdc00",
   "metadata": {},
   "source": [
    "Research, as cited by Harvard Health, indicates that although both systolic and diastolic pressures are significant indicators of cardiovascular health, higher systolic pressures are associated \n",
    "with a greater risk of stroke and heart disease. Consequently, systolic pressure should be prioritized in monitoring</p>\n",
    "\n",
    "https://www.health.harvard.edu/staying-healthy/which-blood-pressure-number-is-important"
   ]
  },
  {
   "cell_type": "code",
   "execution_count": 1463,
   "id": "fe4aec87-e4ed-41ba-8cd6-2935ed59319e",
   "metadata": {},
   "outputs": [
    {
     "data": {
      "text/plain": [
       "count    374.000000\n",
       "mean     128.553476\n",
       "std        7.748118\n",
       "min      115.000000\n",
       "25%      125.000000\n",
       "50%      130.000000\n",
       "75%      135.000000\n",
       "max      142.000000\n",
       "Name: Systolic Pressure, dtype: float64"
      ]
     },
     "execution_count": 1463,
     "metadata": {},
     "output_type": "execute_result"
    }
   ],
   "source": [
    "df['Systolic Pressure'].describe()"
   ]
  },
  {
   "cell_type": "code",
   "execution_count": 1464,
   "id": "6032241c-1f60-49b6-9ed9-881f0345f2f0",
   "metadata": {},
   "outputs": [
    {
     "data": {
      "text/html": [
       "<div>\n",
       "<style scoped>\n",
       "    .dataframe tbody tr th:only-of-type {\n",
       "        vertical-align: middle;\n",
       "    }\n",
       "\n",
       "    .dataframe tbody tr th {\n",
       "        vertical-align: top;\n",
       "    }\n",
       "\n",
       "    .dataframe thead th {\n",
       "        text-align: right;\n",
       "    }\n",
       "</style>\n",
       "<table border=\"1\" class=\"dataframe\">\n",
       "  <thead>\n",
       "    <tr style=\"text-align: right;\">\n",
       "      <th></th>\n",
       "      <th>Systolic Pressure</th>\n",
       "      <th>count</th>\n",
       "    </tr>\n",
       "  </thead>\n",
       "  <tbody>\n",
       "    <tr>\n",
       "      <th>0</th>\n",
       "      <td>130.0</td>\n",
       "      <td>101</td>\n",
       "    </tr>\n",
       "    <tr>\n",
       "      <th>1</th>\n",
       "      <td>125.0</td>\n",
       "      <td>69</td>\n",
       "    </tr>\n",
       "    <tr>\n",
       "      <th>2</th>\n",
       "      <td>140.0</td>\n",
       "      <td>69</td>\n",
       "    </tr>\n",
       "    <tr>\n",
       "      <th>3</th>\n",
       "      <td>120.0</td>\n",
       "      <td>45</td>\n",
       "    </tr>\n",
       "    <tr>\n",
       "      <th>4</th>\n",
       "      <td>115.0</td>\n",
       "      <td>34</td>\n",
       "    </tr>\n",
       "    <tr>\n",
       "      <th>5</th>\n",
       "      <td>135.0</td>\n",
       "      <td>29</td>\n",
       "    </tr>\n",
       "    <tr>\n",
       "      <th>6</th>\n",
       "      <td>128.0</td>\n",
       "      <td>5</td>\n",
       "    </tr>\n",
       "    <tr>\n",
       "      <th>7</th>\n",
       "      <td>132.0</td>\n",
       "      <td>3</td>\n",
       "    </tr>\n",
       "    <tr>\n",
       "      <th>8</th>\n",
       "      <td>118.0</td>\n",
       "      <td>3</td>\n",
       "    </tr>\n",
       "    <tr>\n",
       "      <th>9</th>\n",
       "      <td>126.0</td>\n",
       "      <td>2</td>\n",
       "    </tr>\n",
       "    <tr>\n",
       "      <th>10</th>\n",
       "      <td>131.0</td>\n",
       "      <td>2</td>\n",
       "    </tr>\n",
       "    <tr>\n",
       "      <th>11</th>\n",
       "      <td>117.0</td>\n",
       "      <td>2</td>\n",
       "    </tr>\n",
       "    <tr>\n",
       "      <th>12</th>\n",
       "      <td>129.0</td>\n",
       "      <td>2</td>\n",
       "    </tr>\n",
       "    <tr>\n",
       "      <th>13</th>\n",
       "      <td>119.0</td>\n",
       "      <td>2</td>\n",
       "    </tr>\n",
       "    <tr>\n",
       "      <th>14</th>\n",
       "      <td>139.0</td>\n",
       "      <td>2</td>\n",
       "    </tr>\n",
       "    <tr>\n",
       "      <th>15</th>\n",
       "      <td>142.0</td>\n",
       "      <td>2</td>\n",
       "    </tr>\n",
       "    <tr>\n",
       "      <th>16</th>\n",
       "      <td>122.0</td>\n",
       "      <td>1</td>\n",
       "    </tr>\n",
       "    <tr>\n",
       "      <th>17</th>\n",
       "      <td>121.0</td>\n",
       "      <td>1</td>\n",
       "    </tr>\n",
       "  </tbody>\n",
       "</table>\n",
       "</div>"
      ],
      "text/plain": [
       "    Systolic Pressure  count\n",
       "0               130.0    101\n",
       "1               125.0     69\n",
       "2               140.0     69\n",
       "3               120.0     45\n",
       "4               115.0     34\n",
       "5               135.0     29\n",
       "6               128.0      5\n",
       "7               132.0      3\n",
       "8               118.0      3\n",
       "9               126.0      2\n",
       "10              131.0      2\n",
       "11              117.0      2\n",
       "12              129.0      2\n",
       "13              119.0      2\n",
       "14              139.0      2\n",
       "15              142.0      2\n",
       "16              122.0      1\n",
       "17              121.0      1"
      ]
     },
     "execution_count": 1464,
     "metadata": {},
     "output_type": "execute_result"
    }
   ],
   "source": [
    "\n",
    "df['Systolic Pressure'].value_counts().reset_index()"
   ]
  },
  {
   "cell_type": "code",
   "execution_count": 1469,
   "id": "cf797e36-d447-4ffc-b479-7512807d225c",
   "metadata": {},
   "outputs": [
    {
     "data": {
      "image/png": "[encoded data removed]",
      "text/plain": [
       "<Figure size 1000x800 with 1 Axes>"
      ]
     },
     "metadata": {},
     "output_type": "display_data"
    }
   ],
   "source": [
    "plt.figure(figsize=(10, 8))\n",
    "sns.countplot(data = df, x=df['Systolic Pressure'])\n",
    "plt.ylabel(\"Count\")\n",
    "plt.title('Systolic Pressure')\n",
    "plt.show()"
   ]
  },
  {
   "cell_type": "code",
   "execution_count": 1470,
   "id": "e067d9c1-32c5-4462-869b-b50ed287586b",
   "metadata": {},
   "outputs": [
    {
     "data": {
      "text/html": [
       "<img src=\"table.png\" width=\"1000\" height=\"1000\"/>"
      ],
      "text/plain": [
       "<IPython.core.display.Image object>"
      ]
     },
     "execution_count": 1470,
     "metadata": {},
     "output_type": "execute_result"
    }
   ],
   "source": [
    "from IPython.display import Image \n",
    "  \n",
    "# get the image \n",
    "Image(url=\"table.png\", width=1000, height=1000) "
   ]
  },
  {
   "cell_type": "code",
   "execution_count": 1472,
   "id": "319b9453-b974-493d-8697-ee017b284b8d",
   "metadata": {},
   "outputs": [
    {
     "name": "stdout",
     "output_type": "stream",
     "text": [
      "   Person ID Gender  Age            Occupation  Sleep Duration  \\\n",
      "0          1   Male   27     Software Engineer             6.1   \n",
      "1          2   Male   28                Doctor             6.2   \n",
      "2          3   Male   28                Doctor             6.2   \n",
      "3          4   Male   28  Sales Representative             5.9   \n",
      "4          5   Male   28  Sales Representative             5.9   \n",
      "5          6   Male   28     Software Engineer             5.9   \n",
      "6          7   Male   29               Teacher             6.3   \n",
      "7          8   Male   29                Doctor             7.8   \n",
      "8          9   Male   29                Doctor             7.8   \n",
      "9         10   Male   29                Doctor             7.8   \n",
      "\n",
      "   Quality of Sleep  Physical Activity Level  Stress Level   BMI Category  \\\n",
      "0                 6                       42             6     Overweight   \n",
      "1                 6                       60             8  Normal Weight   \n",
      "2                 6                       60             8  Normal Weight   \n",
      "3                 4                       30             8          Obese   \n",
      "4                 4                       30             8          Obese   \n",
      "5                 4                       30             8          Obese   \n",
      "6                 6                       40             7          Obese   \n",
      "7                 7                       75             6  Normal Weight   \n",
      "8                 7                       75             6  Normal Weight   \n",
      "9                 7                       75             6  Normal Weight   \n",
      "\n",
      "  Blood Pressure  Heart Rate  Daily Steps Sleep Disorder Systolic Pressure  \\\n",
      "0         126/83          77         4200           None               126   \n",
      "1         125/80          75        10000           None               125   \n",
      "2         125/80          75        10000           None               125   \n",
      "3         140/90          85         3000    Sleep Apnea               140   \n",
      "4         140/90          85         3000    Sleep Apnea               140   \n",
      "5         140/90          85         3000       Insomnia               140   \n",
      "6         140/90          82         3500       Insomnia               140   \n",
      "7         120/80          70         8000           None               120   \n",
      "8         120/80          70         8000           None               120   \n",
      "9         120/80          70         8000           None               120   \n",
      "\n",
      "  Diastolic Pressure  \n",
      "0                 83  \n",
      "1                 80  \n",
      "2                 80  \n",
      "3                 90  \n",
      "4                 90  \n",
      "5                 90  \n",
      "6                 90  \n",
      "7                 80  \n",
      "8                 80  \n",
      "9                 80  \n"
     ]
    }
   ],
   "source": [
    "#We will now construct a graphical representation of the association between occupation and elevated blood pressure\n",
    "\n",
    "df[['Systolic Pressure', 'Diastolic Pressure']] = df['Blood Pressure'].str.split('/', expand=True)\n",
    "print(df.head(10))"
   ]
  },
  {
   "cell_type": "code",
   "execution_count": 1474,
   "id": "8d2ca2d7-ab63-4c9d-b32f-2a6324ecbff1",
   "metadata": {},
   "outputs": [
    {
     "data": {
      "text/html": [
       "<div>\n",
       "<style scoped>\n",
       "    .dataframe tbody tr th:only-of-type {\n",
       "        vertical-align: middle;\n",
       "    }\n",
       "\n",
       "    .dataframe tbody tr th {\n",
       "        vertical-align: top;\n",
       "    }\n",
       "\n",
       "    .dataframe thead th {\n",
       "        text-align: right;\n",
       "    }\n",
       "</style>\n",
       "<table border=\"1\" class=\"dataframe\">\n",
       "  <thead>\n",
       "    <tr style=\"text-align: right;\">\n",
       "      <th></th>\n",
       "      <th>Person ID</th>\n",
       "      <th>Gender</th>\n",
       "      <th>Age</th>\n",
       "      <th>Occupation</th>\n",
       "      <th>Sleep Duration</th>\n",
       "      <th>Quality of Sleep</th>\n",
       "      <th>Physical Activity Level</th>\n",
       "      <th>Stress Level</th>\n",
       "      <th>BMI Category</th>\n",
       "      <th>Blood Pressure</th>\n",
       "      <th>Heart Rate</th>\n",
       "      <th>Daily Steps</th>\n",
       "      <th>Sleep Disorder</th>\n",
       "      <th>Systolic Pressure</th>\n",
       "      <th>Diastolic Pressure</th>\n",
       "    </tr>\n",
       "  </thead>\n",
       "  <tbody>\n",
       "    <tr>\n",
       "      <th>3</th>\n",
       "      <td>4</td>\n",
       "      <td>Male</td>\n",
       "      <td>28</td>\n",
       "      <td>Sales Representative</td>\n",
       "      <td>5.9</td>\n",
       "      <td>4</td>\n",
       "      <td>30</td>\n",
       "      <td>8</td>\n",
       "      <td>Obese</td>\n",
       "      <td>140/90</td>\n",
       "      <td>85</td>\n",
       "      <td>3000</td>\n",
       "      <td>Sleep Apnea</td>\n",
       "      <td>140</td>\n",
       "      <td>90</td>\n",
       "    </tr>\n",
       "    <tr>\n",
       "      <th>4</th>\n",
       "      <td>5</td>\n",
       "      <td>Male</td>\n",
       "      <td>28</td>\n",
       "      <td>Sales Representative</td>\n",
       "      <td>5.9</td>\n",
       "      <td>4</td>\n",
       "      <td>30</td>\n",
       "      <td>8</td>\n",
       "      <td>Obese</td>\n",
       "      <td>140/90</td>\n",
       "      <td>85</td>\n",
       "      <td>3000</td>\n",
       "      <td>Sleep Apnea</td>\n",
       "      <td>140</td>\n",
       "      <td>90</td>\n",
       "    </tr>\n",
       "    <tr>\n",
       "      <th>5</th>\n",
       "      <td>6</td>\n",
       "      <td>Male</td>\n",
       "      <td>28</td>\n",
       "      <td>Software Engineer</td>\n",
       "      <td>5.9</td>\n",
       "      <td>4</td>\n",
       "      <td>30</td>\n",
       "      <td>8</td>\n",
       "      <td>Obese</td>\n",
       "      <td>140/90</td>\n",
       "      <td>85</td>\n",
       "      <td>3000</td>\n",
       "      <td>Insomnia</td>\n",
       "      <td>140</td>\n",
       "      <td>90</td>\n",
       "    </tr>\n",
       "    <tr>\n",
       "      <th>6</th>\n",
       "      <td>7</td>\n",
       "      <td>Male</td>\n",
       "      <td>29</td>\n",
       "      <td>Teacher</td>\n",
       "      <td>6.3</td>\n",
       "      <td>6</td>\n",
       "      <td>40</td>\n",
       "      <td>7</td>\n",
       "      <td>Obese</td>\n",
       "      <td>140/90</td>\n",
       "      <td>82</td>\n",
       "      <td>3500</td>\n",
       "      <td>Insomnia</td>\n",
       "      <td>140</td>\n",
       "      <td>90</td>\n",
       "    </tr>\n",
       "    <tr>\n",
       "      <th>16</th>\n",
       "      <td>17</td>\n",
       "      <td>Female</td>\n",
       "      <td>29</td>\n",
       "      <td>Nurse</td>\n",
       "      <td>6.5</td>\n",
       "      <td>5</td>\n",
       "      <td>40</td>\n",
       "      <td>7</td>\n",
       "      <td>Normal Weight</td>\n",
       "      <td>132/87</td>\n",
       "      <td>80</td>\n",
       "      <td>4000</td>\n",
       "      <td>Sleep Apnea</td>\n",
       "      <td>132</td>\n",
       "      <td>87</td>\n",
       "    </tr>\n",
       "    <tr>\n",
       "      <th>...</th>\n",
       "      <td>...</td>\n",
       "      <td>...</td>\n",
       "      <td>...</td>\n",
       "      <td>...</td>\n",
       "      <td>...</td>\n",
       "      <td>...</td>\n",
       "      <td>...</td>\n",
       "      <td>...</td>\n",
       "      <td>...</td>\n",
       "      <td>...</td>\n",
       "      <td>...</td>\n",
       "      <td>...</td>\n",
       "      <td>...</td>\n",
       "      <td>...</td>\n",
       "      <td>...</td>\n",
       "    </tr>\n",
       "    <tr>\n",
       "      <th>369</th>\n",
       "      <td>370</td>\n",
       "      <td>Female</td>\n",
       "      <td>59</td>\n",
       "      <td>Nurse</td>\n",
       "      <td>8.1</td>\n",
       "      <td>9</td>\n",
       "      <td>75</td>\n",
       "      <td>3</td>\n",
       "      <td>Overweight</td>\n",
       "      <td>140/95</td>\n",
       "      <td>68</td>\n",
       "      <td>7000</td>\n",
       "      <td>Sleep Apnea</td>\n",
       "      <td>140</td>\n",
       "      <td>95</td>\n",
       "    </tr>\n",
       "    <tr>\n",
       "      <th>370</th>\n",
       "      <td>371</td>\n",
       "      <td>Female</td>\n",
       "      <td>59</td>\n",
       "      <td>Nurse</td>\n",
       "      <td>8.0</td>\n",
       "      <td>9</td>\n",
       "      <td>75</td>\n",
       "      <td>3</td>\n",
       "      <td>Overweight</td>\n",
       "      <td>140/95</td>\n",
       "      <td>68</td>\n",
       "      <td>7000</td>\n",
       "      <td>Sleep Apnea</td>\n",
       "      <td>140</td>\n",
       "      <td>95</td>\n",
       "    </tr>\n",
       "    <tr>\n",
       "      <th>371</th>\n",
       "      <td>372</td>\n",
       "      <td>Female</td>\n",
       "      <td>59</td>\n",
       "      <td>Nurse</td>\n",
       "      <td>8.1</td>\n",
       "      <td>9</td>\n",
       "      <td>75</td>\n",
       "      <td>3</td>\n",
       "      <td>Overweight</td>\n",
       "      <td>140/95</td>\n",
       "      <td>68</td>\n",
       "      <td>7000</td>\n",
       "      <td>Sleep Apnea</td>\n",
       "      <td>140</td>\n",
       "      <td>95</td>\n",
       "    </tr>\n",
       "    <tr>\n",
       "      <th>372</th>\n",
       "      <td>373</td>\n",
       "      <td>Female</td>\n",
       "      <td>59</td>\n",
       "      <td>Nurse</td>\n",
       "      <td>8.1</td>\n",
       "      <td>9</td>\n",
       "      <td>75</td>\n",
       "      <td>3</td>\n",
       "      <td>Overweight</td>\n",
       "      <td>140/95</td>\n",
       "      <td>68</td>\n",
       "      <td>7000</td>\n",
       "      <td>Sleep Apnea</td>\n",
       "      <td>140</td>\n",
       "      <td>95</td>\n",
       "    </tr>\n",
       "    <tr>\n",
       "      <th>373</th>\n",
       "      <td>374</td>\n",
       "      <td>Female</td>\n",
       "      <td>59</td>\n",
       "      <td>Nurse</td>\n",
       "      <td>8.1</td>\n",
       "      <td>9</td>\n",
       "      <td>75</td>\n",
       "      <td>3</td>\n",
       "      <td>Overweight</td>\n",
       "      <td>140/95</td>\n",
       "      <td>68</td>\n",
       "      <td>7000</td>\n",
       "      <td>Sleep Apnea</td>\n",
       "      <td>140</td>\n",
       "      <td>95</td>\n",
       "    </tr>\n",
       "  </tbody>\n",
       "</table>\n",
       "<p>107 rows × 15 columns</p>\n",
       "</div>"
      ],
      "text/plain": [
       "     Person ID  Gender  Age            Occupation  Sleep Duration  \\\n",
       "3            4    Male   28  Sales Representative             5.9   \n",
       "4            5    Male   28  Sales Representative             5.9   \n",
       "5            6    Male   28     Software Engineer             5.9   \n",
       "6            7    Male   29               Teacher             6.3   \n",
       "16          17  Female   29                 Nurse             6.5   \n",
       "..         ...     ...  ...                   ...             ...   \n",
       "369        370  Female   59                 Nurse             8.1   \n",
       "370        371  Female   59                 Nurse             8.0   \n",
       "371        372  Female   59                 Nurse             8.1   \n",
       "372        373  Female   59                 Nurse             8.1   \n",
       "373        374  Female   59                 Nurse             8.1   \n",
       "\n",
       "     Quality of Sleep  Physical Activity Level  Stress Level   BMI Category  \\\n",
       "3                   4                       30             8          Obese   \n",
       "4                   4                       30             8          Obese   \n",
       "5                   4                       30             8          Obese   \n",
       "6                   6                       40             7          Obese   \n",
       "16                  5                       40             7  Normal Weight   \n",
       "..                ...                      ...           ...            ...   \n",
       "369                 9                       75             3     Overweight   \n",
       "370                 9                       75             3     Overweight   \n",
       "371                 9                       75             3     Overweight   \n",
       "372                 9                       75             3     Overweight   \n",
       "373                 9                       75             3     Overweight   \n",
       "\n",
       "    Blood Pressure  Heart Rate  Daily Steps Sleep Disorder  Systolic Pressure  \\\n",
       "3           140/90          85         3000    Sleep Apnea                140   \n",
       "4           140/90          85         3000    Sleep Apnea                140   \n",
       "5           140/90          85         3000       Insomnia                140   \n",
       "6           140/90          82         3500       Insomnia                140   \n",
       "16          132/87          80         4000    Sleep Apnea                132   \n",
       "..             ...         ...          ...            ...                ...   \n",
       "369         140/95          68         7000    Sleep Apnea                140   \n",
       "370         140/95          68         7000    Sleep Apnea                140   \n",
       "371         140/95          68         7000    Sleep Apnea                140   \n",
       "372         140/95          68         7000    Sleep Apnea                140   \n",
       "373         140/95          68         7000    Sleep Apnea                140   \n",
       "\n",
       "     Diastolic Pressure  \n",
       "3                    90  \n",
       "4                    90  \n",
       "5                    90  \n",
       "6                    90  \n",
       "16                   87  \n",
       "..                  ...  \n",
       "369                  95  \n",
       "370                  95  \n",
       "371                  95  \n",
       "372                  95  \n",
       "373                  95  \n",
       "\n",
       "[107 rows x 15 columns]"
      ]
     },
     "execution_count": 1474,
     "metadata": {},
     "output_type": "execute_result"
    }
   ],
   "source": [
    "#let's find out more about participants with high blood pressure\n",
    "\n",
    "# Filter for systolic blood pressure > 130 mmHg( high blood pressure\n",
    "df[['Systolic Pressure', 'Diastolic Pressure']] = df['Blood Pressure'].str.split('/', expand=True)\n",
    "\n",
    "# Convert to integers (optional)\n",
    "df['Systolic Pressure'] = df['Systolic Pressure'].astype(int)\n",
    "df['Diastolic Pressure'] = df['Diastolic Pressure'].astype(int)\n",
    "\n",
    "high_pressure = df[df['Systolic Pressure'] > 130]\n",
    "\n",
    "#now let's analize which professions have high blood pressure\n",
    "high_pressure"
   ]
  },
  {
   "cell_type": "code",
   "execution_count": 1475,
   "id": "f0b60cb7-4405-41fd-9bf2-6a00f8c87256",
   "metadata": {},
   "outputs": [],
   "source": [
    "occupation_percent = df.groupby('Occupation')['Systolic Pressure'].apply( lambda x: (x >= 130).mean() * 100 ).sort_values(ascending=False).reset_index(name='Percentage')\n",
    "\n",
    "# Filter occupations with at least 5 people ( to avoid small samples)\n",
    "occupation_percent = occupation_percent[df['Occupation'].value_counts()[occupation_percent['Occupation']].values >= 5]"
   ]
  },
  {
   "cell_type": "code",
   "execution_count": 1480,
   "id": "f2ae3818-c903-48d0-8070-6d68eb75868a",
   "metadata": {},
   "outputs": [
    {
     "name": "stderr",
     "output_type": "stream",
     "text": [
      "C:\\Users\\rodri\\AppData\\Local\\Temp\\ipykernel_32140\\2201898581.py:2: FutureWarning: \n",
      "\n",
      "Passing `palette` without assigning `hue` is deprecated and will be removed in v0.14.0. Assign the `x` variable to `hue` and set `legend=False` for the same effect.\n",
      "\n",
      "  sns.barplot(\n"
     ]
    },
    {
     "data": {
      "image/png": "[encoded data removed]",
      "text/plain": [
       "<Figure size 1200x600 with 1 Axes>"
      ]
     },
     "metadata": {},
     "output_type": "display_data"
    }
   ],
   "source": [
    "plt.figure(figsize=(12, 6))\n",
    "sns.barplot(\n",
    "    y='Percentage',\n",
    "    x='Occupation',\n",
    "    data=occupation_percent.head(10),  # Top 10 professions\n",
    "    palette='viridis'\n",
    ")\n",
    "plt.title('Occupations with Highest % of Systolic Pressure ≥ 130')\n",
    "plt.ylabel('Percentage (%)')\n",
    "plt.xlabel('Occupation')\n",
    "plt.show()\n"
   ]
  },
  {
   "cell_type": "code",
   "execution_count": 1489,
   "id": "8321b713-c2ed-4e88-be6b-d0c8f51ab286",
   "metadata": {},
   "outputs": [
    {
     "data": {
      "text/plain": [
       "0       4200\n",
       "1      10000\n",
       "2      10000\n",
       "3       3000\n",
       "4       3000\n",
       "       ...  \n",
       "369     7000\n",
       "370     7000\n",
       "371     7000\n",
       "372     7000\n",
       "373     7000\n",
       "Name: Daily Steps, Length: 374, dtype: int64"
      ]
     },
     "execution_count": 1489,
     "metadata": {},
     "output_type": "execute_result"
    }
   ],
   "source": [
    "#Let's analyze the participants' step count\n",
    "\n",
    "df['Daily Steps']"
   ]
  },
  {
   "cell_type": "code",
   "execution_count": 1491,
   "id": "a2b0a9a4-adad-4015-a7f1-8a72edd5793d",
   "metadata": {},
   "outputs": [
    {
     "data": {
      "text/plain": [
       "count      374.000000\n",
       "mean      6816.844920\n",
       "std       1617.915679\n",
       "min       3000.000000\n",
       "25%       5600.000000\n",
       "50%       7000.000000\n",
       "75%       8000.000000\n",
       "max      10000.000000\n",
       "Name: Daily Steps, dtype: float64"
      ]
     },
     "execution_count": 1491,
     "metadata": {},
     "output_type": "execute_result"
    }
   ],
   "source": [
    "df['Daily Steps'].describe()"
   ]
  },
  {
   "cell_type": "code",
   "execution_count": 1492,
   "id": "0d586f19-cff1-4ad3-8126-6d3c24b2a310",
   "metadata": {},
   "outputs": [
    {
     "data": {
      "text/html": [
       "<div>\n",
       "<style scoped>\n",
       "    .dataframe tbody tr th:only-of-type {\n",
       "        vertical-align: middle;\n",
       "    }\n",
       "\n",
       "    .dataframe tbody tr th {\n",
       "        vertical-align: top;\n",
       "    }\n",
       "\n",
       "    .dataframe thead th {\n",
       "        text-align: right;\n",
       "    }\n",
       "</style>\n",
       "<table border=\"1\" class=\"dataframe\">\n",
       "  <thead>\n",
       "    <tr style=\"text-align: right;\">\n",
       "      <th></th>\n",
       "      <th>Daily Steps</th>\n",
       "      <th>count</th>\n",
       "    </tr>\n",
       "  </thead>\n",
       "  <tbody>\n",
       "    <tr>\n",
       "      <th>0</th>\n",
       "      <td>8000</td>\n",
       "      <td>101</td>\n",
       "    </tr>\n",
       "    <tr>\n",
       "      <th>1</th>\n",
       "      <td>5000</td>\n",
       "      <td>68</td>\n",
       "    </tr>\n",
       "    <tr>\n",
       "      <th>2</th>\n",
       "      <td>6000</td>\n",
       "      <td>68</td>\n",
       "    </tr>\n",
       "    <tr>\n",
       "      <th>3</th>\n",
       "      <td>7000</td>\n",
       "      <td>66</td>\n",
       "    </tr>\n",
       "    <tr>\n",
       "      <th>4</th>\n",
       "      <td>10000</td>\n",
       "      <td>36</td>\n",
       "    </tr>\n",
       "    <tr>\n",
       "      <th>5</th>\n",
       "      <td>5500</td>\n",
       "      <td>4</td>\n",
       "    </tr>\n",
       "    <tr>\n",
       "      <th>6</th>\n",
       "      <td>3000</td>\n",
       "      <td>3</td>\n",
       "    </tr>\n",
       "    <tr>\n",
       "      <th>7</th>\n",
       "      <td>3500</td>\n",
       "      <td>3</td>\n",
       "    </tr>\n",
       "    <tr>\n",
       "      <th>8</th>\n",
       "      <td>6800</td>\n",
       "      <td>3</td>\n",
       "    </tr>\n",
       "    <tr>\n",
       "      <th>9</th>\n",
       "      <td>4000</td>\n",
       "      <td>3</td>\n",
       "    </tr>\n",
       "    <tr>\n",
       "      <th>10</th>\n",
       "      <td>4200</td>\n",
       "      <td>2</td>\n",
       "    </tr>\n",
       "    <tr>\n",
       "      <th>11</th>\n",
       "      <td>4100</td>\n",
       "      <td>2</td>\n",
       "    </tr>\n",
       "    <tr>\n",
       "      <th>12</th>\n",
       "      <td>5200</td>\n",
       "      <td>2</td>\n",
       "    </tr>\n",
       "    <tr>\n",
       "      <th>13</th>\n",
       "      <td>5600</td>\n",
       "      <td>2</td>\n",
       "    </tr>\n",
       "    <tr>\n",
       "      <th>14</th>\n",
       "      <td>4800</td>\n",
       "      <td>2</td>\n",
       "    </tr>\n",
       "    <tr>\n",
       "      <th>15</th>\n",
       "      <td>3300</td>\n",
       "      <td>2</td>\n",
       "    </tr>\n",
       "    <tr>\n",
       "      <th>16</th>\n",
       "      <td>7500</td>\n",
       "      <td>2</td>\n",
       "    </tr>\n",
       "    <tr>\n",
       "      <th>17</th>\n",
       "      <td>7300</td>\n",
       "      <td>2</td>\n",
       "    </tr>\n",
       "    <tr>\n",
       "      <th>18</th>\n",
       "      <td>3700</td>\n",
       "      <td>2</td>\n",
       "    </tr>\n",
       "    <tr>\n",
       "      <th>19</th>\n",
       "      <td>6200</td>\n",
       "      <td>1</td>\n",
       "    </tr>\n",
       "  </tbody>\n",
       "</table>\n",
       "</div>"
      ],
      "text/plain": [
       "    Daily Steps  count\n",
       "0          8000    101\n",
       "1          5000     68\n",
       "2          6000     68\n",
       "3          7000     66\n",
       "4         10000     36\n",
       "5          5500      4\n",
       "6          3000      3\n",
       "7          3500      3\n",
       "8          6800      3\n",
       "9          4000      3\n",
       "10         4200      2\n",
       "11         4100      2\n",
       "12         5200      2\n",
       "13         5600      2\n",
       "14         4800      2\n",
       "15         3300      2\n",
       "16         7500      2\n",
       "17         7300      2\n",
       "18         3700      2\n",
       "19         6200      1"
      ]
     },
     "execution_count": 1492,
     "metadata": {},
     "output_type": "execute_result"
    }
   ],
   "source": [
    "df['Daily Steps'].value_counts().reset_index()"
   ]
  },
  {
   "cell_type": "code",
   "execution_count": 1493,
   "id": "c3df3410-eb96-4723-b9c0-fe6a11b1e618",
   "metadata": {},
   "outputs": [
    {
     "data": {
      "image/png": "[encoded data removed]",
      "text/plain": [
       "<Figure size 1000x1000 with 1 Axes>"
      ]
     },
     "metadata": {},
     "output_type": "display_data"
    }
   ],
   "source": [
    "plt.figure(figsize=(10,10))\n",
    "sns.countplot(data = df, x=df['Daily Steps'])\n",
    "plt.ylabel(\"Count\")\n",
    "plt.title('Daily Steps ')\n",
    "plt.show()"
   ]
  },
  {
   "cell_type": "markdown",
   "id": "56cc31dd-ed0c-4d4d-814f-24fc1a8a8cfb",
   "metadata": {},
   "source": [
    "Participants took an average of 6,816.84 steps per day, with a range from 3,000 to 10,000 steps."
   ]
  },
  {
   "cell_type": "code",
   "execution_count": 1495,
   "id": "1da28c07-ddb2-4294-baad-24afa237c4b5",
   "metadata": {},
   "outputs": [
    {
     "data": {
      "text/plain": [
       "0             None\n",
       "1             None\n",
       "2             None\n",
       "3      Sleep Apnea\n",
       "4      Sleep Apnea\n",
       "          ...     \n",
       "369    Sleep Apnea\n",
       "370    Sleep Apnea\n",
       "371    Sleep Apnea\n",
       "372    Sleep Apnea\n",
       "373    Sleep Apnea\n",
       "Name: Sleep Disorder, Length: 374, dtype: object"
      ]
     },
     "execution_count": 1495,
     "metadata": {},
     "output_type": "execute_result"
    }
   ],
   "source": [
    "#We will now examine the 'Sleep Disorder' column.\n",
    "\n",
    "df['Sleep Disorder']"
   ]
  },
  {
   "cell_type": "code",
   "execution_count": 1496,
   "id": "d8369ba4-e9bd-453b-96e9-547e6f0ed785",
   "metadata": {},
   "outputs": [
    {
     "data": {
      "text/plain": [
       "array(['None', 'Sleep Apnea', 'Insomnia'], dtype=object)"
      ]
     },
     "execution_count": 1496,
     "metadata": {},
     "output_type": "execute_result"
    }
   ],
   "source": [
    "#I will try to find out more about what conditions we have as sleep disorder\n",
    "df['Sleep Disorder'].unique()"
   ]
  },
  {
   "cell_type": "code",
   "execution_count": 1497,
   "id": "3c4c05f8-96c6-4c40-aab6-ff0365d6d43b",
   "metadata": {},
   "outputs": [],
   "source": [
    "sleep_disorder_counts = df['Sleep Disorder'].value_counts()\n",
    "\n"
   ]
  },
  {
   "cell_type": "code",
   "execution_count": 1498,
   "id": "6d14dac1-5a70-4684-8421-5f6d158b38e1",
   "metadata": {},
   "outputs": [
    {
     "name": "stdout",
     "output_type": "stream",
     "text": [
      "Sleep Disorder\n",
      "None           219\n",
      "Sleep Apnea     78\n",
      "Insomnia        77\n",
      "Name: count, dtype: int64\n"
     ]
    }
   ],
   "source": [
    "print(sleep_disorder_counts)"
   ]
  },
  {
   "cell_type": "code",
   "execution_count": 1499,
   "id": "98ad9e2d-bca6-4b80-bba3-2f7f60c20b92",
   "metadata": {},
   "outputs": [],
   "source": [
    "\n",
    "\n",
    "sleep_disorder_perc= df['Sleep Disorder'].value_counts(normalize=True)"
   ]
  },
  {
   "cell_type": "code",
   "execution_count": 1505,
   "id": "6fd3f689-a3a0-4759-b56e-b5e19d6d9e36",
   "metadata": {},
   "outputs": [
    {
     "name": "stdout",
     "output_type": "stream",
     "text": [
      "Sleep Disorder\n",
      "None           0.585561\n",
      "Sleep Apnea    0.208556\n",
      "Insomnia       0.205882\n",
      "Name: proportion, dtype: float64\n"
     ]
    }
   ],
   "source": [
    "print(sleep_disorder_perc)"
   ]
  },
  {
   "cell_type": "code",
   "execution_count": 1507,
   "id": "4f964f66-d547-4500-8b47-0543d4b2377b",
   "metadata": {},
   "outputs": [
    {
     "data": {
      "text/plain": [
       "([<matplotlib.patches.Wedge at 0x1f685d771c0>,\n",
       "  <matplotlib.patches.Wedge at 0x1f685d77fd0>,\n",
       "  <matplotlib.patches.Wedge at 0x1f6839b9490>],\n",
       " [Text(-0.29213162751863764, 1.0604994635563527, 'None'),\n",
       "  Text(-0.40596743002101227, -1.022345560836518, 'Sleep Apnea'),\n",
       "  Text(0.8778189842549604, -0.6628980546672238, 'Insomnia')],\n",
       " [Text(-0.15934452410107505, 0.5784542528489196, '58.6%'),\n",
       "  Text(-0.22143678001146122, -0.5576430331835552, '20.9%'),\n",
       "  Text(0.47881035504816016, -0.361580757091213, '20.6%')])"
      ]
     },
     "execution_count": 1507,
     "metadata": {},
     "output_type": "execute_result"
    },
    {
     "data": {
      "image/png": "[encoded data removed]",
      "text/plain": [
       "<Figure size 640x480 with 1 Axes>"
      ]
     },
     "metadata": {},
     "output_type": "display_data"
    }
   ],
   "source": [
    "#I will put it in a pie graphic\n",
    "my_colors=('green','red','yellow')\n",
    "\n",
    "plt.pie(sleep_disorder_counts, labels=sleep_disorder_perc.index, autopct='%1.1f%%',colors=my_colors)"
   ]
  },
  {
   "cell_type": "markdown",
   "id": "ecb06b9a-2004-4d77-b416-84494d376ad7",
   "metadata": {},
   "source": []
  },
  {
   "cell_type": "markdown",
   "id": "b8c94068-b8f8-4ecb-be3d-08afe507fc58",
   "metadata": {},
   "source": [
    "> **Websites:** This is a useful resource from which I obtain most commands and steps:\n",
    ".</p> https://www.geeksforgeeks.org/python-pandas-dataframe-groupby/.</p>\n",
    ".</p>https://www.geeksforgeeks.org/python-pandas-dataframe/.</p>\n",
    ".</p>https://www.geeksforgeeks.org/matplotlib-tutorial/.</p>\n",
    ".</p>https://www.geeksforgeeks.org/python-seaborn-tutorial/.</p>\n",
    ".</p> https://www.markdownguide.org/hacks/#:~:text=Markdown%20doesn't%20allow%20you,or%20the%20hexadecimal%20%23RRGGBB%20code..</p>"
   ]
  },
  {
   "cell_type": "code",
   "execution_count": null,
   "id": "befa339d-8989-4780-9362-a76e2bf4570f",
   "metadata": {},
   "outputs": [],
   "source": []
  }
 ],
 "metadata": {
  "kernelspec": {
   "display_name": "DataEnv",
   "language": "python",
   "name": "dataenv"
  },
  "language_info": {
   "codemirror_mode": {
    "name": "ipython",
    "version": 3
   },
   "file_extension": ".py",
   "mimetype": "text/x-python",
   "name": "python",
   "nbconvert_exporter": "python",
   "pygments_lexer": "ipython3",
   "version": "3.9.21"
  }
 },
 "nbformat": 4,
 "nbformat_minor": 5
}
